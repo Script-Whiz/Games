{
 "cells": [
  {
   "cell_type": "markdown",
   "id": "bd5ee825-153a-4303-8698-c5952b03f23e",
   "metadata": {},
   "source": [
    "# Analysis of video game sales, by Deborah Thomas."
   ]
  },
  {
   "cell_type": "markdown",
   "id": "134ea50c-4837-4d24-ac25-807305a16330",
   "metadata": {},
   "source": [
    "<div style=\"background-color: rgb(255, 176, 155); padding: 10px; border-radius: 5px;\">\n",
    "    <h2>Introduction</h2>\n",
    "</div>"
   ]
  },
  {
   "cell_type": "markdown",
   "id": "1dfd71a7-4108-4813-a16c-5be22f62d7f4",
   "metadata": {},
   "source": [
    "#### Analysis of historic video game sales, from 1980-2016, from the (fictitional) online store called \"Ice\". This dataset includes sales from these three regions:\n",
    "- North America\n",
    "- Europe\n",
    "- Japan\n",
    "#### I will be analyzing the following, in order to gain an understanding as to which video games will be successful:\n",
    "- Video game platforms\n",
    "- Year of release\n",
    "- Video game genres\n",
    "- Critics' scores\n",
    "- Users' scores\n",
    "- ESRB's ratings (Entertainment Software Rating Board)"
   ]
  },
  {
   "cell_type": "markdown",
   "id": "34cc51a5-86bf-48ff-bc60-b98d34e537bb",
   "metadata": {},
   "source": [
    "<div style=\"background-color: rgb(255, 176, 155); padding: 10px; border-radius: 5px;\">\n",
    "    <h2>Import libraries, and read in the dataset</h2>\n",
    "</div>"
   ]
  },
  {
   "cell_type": "code",
   "execution_count": 1,
   "id": "fa19b676-e0d5-4fb6-9faa-16e4ca36a997",
   "metadata": {},
   "outputs": [],
   "source": [
    "import pandas as pd\n",
    "import numpy as np\n",
    "\n",
    "from IPython.display import Image"
   ]
  },
  {
   "cell_type": "code",
   "execution_count": 2,
   "id": "d6e04be8-a5da-4da1-a476-317bc2255afa",
   "metadata": {},
   "outputs": [
    {
     "data": {
      "text/html": [
       "<img src=\"../girl_videoGame_dog_ice.webp\" width=\"300\" height=\"300\"/>"
      ],
      "text/plain": [
       "<IPython.core.display.Image object>"
      ]
     },
     "execution_count": 2,
     "metadata": {},
     "output_type": "execute_result"
    }
   ],
   "source": [
    "Image(url='../girl_videoGame_dog_ice.webp', width=300, height=300)"
   ]
  },
  {
   "cell_type": "code",
   "execution_count": 3,
   "id": "026efd21-44f1-4f6d-9a55-0c00db29d666",
   "metadata": {},
   "outputs": [
    {
     "data": {
      "text/html": [
       "<div>\n",
       "<style scoped>\n",
       "    .dataframe tbody tr th:only-of-type {\n",
       "        vertical-align: middle;\n",
       "    }\n",
       "\n",
       "    .dataframe tbody tr th {\n",
       "        vertical-align: top;\n",
       "    }\n",
       "\n",
       "    .dataframe thead th {\n",
       "        text-align: right;\n",
       "    }\n",
       "</style>\n",
       "<table border=\"1\" class=\"dataframe\">\n",
       "  <thead>\n",
       "    <tr style=\"text-align: right;\">\n",
       "      <th></th>\n",
       "      <th>Name</th>\n",
       "      <th>Platform</th>\n",
       "      <th>Year_of_Release</th>\n",
       "      <th>Genre</th>\n",
       "      <th>NA_sales</th>\n",
       "      <th>EU_sales</th>\n",
       "      <th>JP_sales</th>\n",
       "      <th>Other_sales</th>\n",
       "      <th>Critic_Score</th>\n",
       "      <th>User_Score</th>\n",
       "      <th>Rating</th>\n",
       "    </tr>\n",
       "  </thead>\n",
       "  <tbody>\n",
       "    <tr>\n",
       "      <th>0</th>\n",
       "      <td>Wii Sports</td>\n",
       "      <td>Wii</td>\n",
       "      <td>2006.0</td>\n",
       "      <td>Sports</td>\n",
       "      <td>41.36</td>\n",
       "      <td>28.96</td>\n",
       "      <td>3.77</td>\n",
       "      <td>8.45</td>\n",
       "      <td>76.0</td>\n",
       "      <td>8</td>\n",
       "      <td>E</td>\n",
       "    </tr>\n",
       "    <tr>\n",
       "      <th>1</th>\n",
       "      <td>Super Mario Bros.</td>\n",
       "      <td>NES</td>\n",
       "      <td>1985.0</td>\n",
       "      <td>Platform</td>\n",
       "      <td>29.08</td>\n",
       "      <td>3.58</td>\n",
       "      <td>6.81</td>\n",
       "      <td>0.77</td>\n",
       "      <td>NaN</td>\n",
       "      <td>NaN</td>\n",
       "      <td>NaN</td>\n",
       "    </tr>\n",
       "    <tr>\n",
       "      <th>2</th>\n",
       "      <td>Mario Kart Wii</td>\n",
       "      <td>Wii</td>\n",
       "      <td>2008.0</td>\n",
       "      <td>Racing</td>\n",
       "      <td>15.68</td>\n",
       "      <td>12.76</td>\n",
       "      <td>3.79</td>\n",
       "      <td>3.29</td>\n",
       "      <td>82.0</td>\n",
       "      <td>8.3</td>\n",
       "      <td>E</td>\n",
       "    </tr>\n",
       "    <tr>\n",
       "      <th>3</th>\n",
       "      <td>Wii Sports Resort</td>\n",
       "      <td>Wii</td>\n",
       "      <td>2009.0</td>\n",
       "      <td>Sports</td>\n",
       "      <td>15.61</td>\n",
       "      <td>10.93</td>\n",
       "      <td>3.28</td>\n",
       "      <td>2.95</td>\n",
       "      <td>80.0</td>\n",
       "      <td>8</td>\n",
       "      <td>E</td>\n",
       "    </tr>\n",
       "    <tr>\n",
       "      <th>4</th>\n",
       "      <td>Pokemon Red/Pokemon Blue</td>\n",
       "      <td>GB</td>\n",
       "      <td>1996.0</td>\n",
       "      <td>Role-Playing</td>\n",
       "      <td>11.27</td>\n",
       "      <td>8.89</td>\n",
       "      <td>10.22</td>\n",
       "      <td>1.00</td>\n",
       "      <td>NaN</td>\n",
       "      <td>NaN</td>\n",
       "      <td>NaN</td>\n",
       "    </tr>\n",
       "  </tbody>\n",
       "</table>\n",
       "</div>"
      ],
      "text/plain": [
       "                       Name Platform  Year_of_Release         Genre  NA_sales  \\\n",
       "0                Wii Sports      Wii           2006.0        Sports     41.36   \n",
       "1         Super Mario Bros.      NES           1985.0      Platform     29.08   \n",
       "2            Mario Kart Wii      Wii           2008.0        Racing     15.68   \n",
       "3         Wii Sports Resort      Wii           2009.0        Sports     15.61   \n",
       "4  Pokemon Red/Pokemon Blue       GB           1996.0  Role-Playing     11.27   \n",
       "\n",
       "   EU_sales  JP_sales  Other_sales  Critic_Score User_Score Rating  \n",
       "0     28.96      3.77         8.45          76.0          8      E  \n",
       "1      3.58      6.81         0.77           NaN        NaN    NaN  \n",
       "2     12.76      3.79         3.29          82.0        8.3      E  \n",
       "3     10.93      3.28         2.95          80.0          8      E  \n",
       "4      8.89     10.22         1.00           NaN        NaN    NaN  "
      ]
     },
     "metadata": {},
     "output_type": "display_data"
    }
   ],
   "source": [
    "games = pd.read_csv('../games.csv')\n",
    "display(games.head(5))"
   ]
  },
  {
   "cell_type": "markdown",
   "id": "33040105-7af5-402f-ad99-9e01ff8bfb45",
   "metadata": {},
   "source": [
    "<div style=\"background-color: rgb(255, 176, 155); padding: 10px; border-radius: 5px;\">\n",
    "    <h2>Basic summary of the data</h2>\n",
    "</div>"
   ]
  },
  {
   "cell_type": "code",
   "execution_count": 4,
   "id": "fb21aeb6-c1bc-4e06-a752-b5e2f4742c4f",
   "metadata": {},
   "outputs": [
    {
     "name": "stdout",
     "output_type": "stream",
     "text": [
      "This dataset has 11 columns, and 16715 rows.\n"
     ]
    }
   ],
   "source": [
    "print(\"This dataset has \" + str(games.shape[1]) + \" columns, and \" + str(games.shape[0]) + \" rows.\")"
   ]
  },
  {
   "cell_type": "code",
   "execution_count": 5,
   "id": "27c7015c-53b1-41d7-875c-33d37d5915df",
   "metadata": {},
   "outputs": [
    {
     "data": {
      "text/html": [
       "<div>\n",
       "<style scoped>\n",
       "    .dataframe tbody tr th:only-of-type {\n",
       "        vertical-align: middle;\n",
       "    }\n",
       "\n",
       "    .dataframe tbody tr th {\n",
       "        vertical-align: top;\n",
       "    }\n",
       "\n",
       "    .dataframe thead th {\n",
       "        text-align: right;\n",
       "    }\n",
       "</style>\n",
       "<table border=\"1\" class=\"dataframe\">\n",
       "  <thead>\n",
       "    <tr style=\"text-align: right;\">\n",
       "      <th></th>\n",
       "      <th>Year_of_Release</th>\n",
       "      <th>NA_sales</th>\n",
       "      <th>EU_sales</th>\n",
       "      <th>JP_sales</th>\n",
       "      <th>Other_sales</th>\n",
       "      <th>Critic_Score</th>\n",
       "    </tr>\n",
       "  </thead>\n",
       "  <tbody>\n",
       "    <tr>\n",
       "      <th>count</th>\n",
       "      <td>16446.000000</td>\n",
       "      <td>16715.000000</td>\n",
       "      <td>16715.000000</td>\n",
       "      <td>16715.000000</td>\n",
       "      <td>16715.000000</td>\n",
       "      <td>8137.000000</td>\n",
       "    </tr>\n",
       "    <tr>\n",
       "      <th>mean</th>\n",
       "      <td>2006.484616</td>\n",
       "      <td>0.263377</td>\n",
       "      <td>0.145060</td>\n",
       "      <td>0.077617</td>\n",
       "      <td>0.047342</td>\n",
       "      <td>68.967679</td>\n",
       "    </tr>\n",
       "    <tr>\n",
       "      <th>std</th>\n",
       "      <td>5.877050</td>\n",
       "      <td>0.813604</td>\n",
       "      <td>0.503339</td>\n",
       "      <td>0.308853</td>\n",
       "      <td>0.186731</td>\n",
       "      <td>13.938165</td>\n",
       "    </tr>\n",
       "    <tr>\n",
       "      <th>min</th>\n",
       "      <td>1980.000000</td>\n",
       "      <td>0.000000</td>\n",
       "      <td>0.000000</td>\n",
       "      <td>0.000000</td>\n",
       "      <td>0.000000</td>\n",
       "      <td>13.000000</td>\n",
       "    </tr>\n",
       "    <tr>\n",
       "      <th>25%</th>\n",
       "      <td>2003.000000</td>\n",
       "      <td>0.000000</td>\n",
       "      <td>0.000000</td>\n",
       "      <td>0.000000</td>\n",
       "      <td>0.000000</td>\n",
       "      <td>60.000000</td>\n",
       "    </tr>\n",
       "    <tr>\n",
       "      <th>50%</th>\n",
       "      <td>2007.000000</td>\n",
       "      <td>0.080000</td>\n",
       "      <td>0.020000</td>\n",
       "      <td>0.000000</td>\n",
       "      <td>0.010000</td>\n",
       "      <td>71.000000</td>\n",
       "    </tr>\n",
       "    <tr>\n",
       "      <th>75%</th>\n",
       "      <td>2010.000000</td>\n",
       "      <td>0.240000</td>\n",
       "      <td>0.110000</td>\n",
       "      <td>0.040000</td>\n",
       "      <td>0.030000</td>\n",
       "      <td>79.000000</td>\n",
       "    </tr>\n",
       "    <tr>\n",
       "      <th>max</th>\n",
       "      <td>2016.000000</td>\n",
       "      <td>41.360000</td>\n",
       "      <td>28.960000</td>\n",
       "      <td>10.220000</td>\n",
       "      <td>10.570000</td>\n",
       "      <td>98.000000</td>\n",
       "    </tr>\n",
       "  </tbody>\n",
       "</table>\n",
       "</div>"
      ],
      "text/plain": [
       "       Year_of_Release      NA_sales      EU_sales      JP_sales  \\\n",
       "count     16446.000000  16715.000000  16715.000000  16715.000000   \n",
       "mean       2006.484616      0.263377      0.145060      0.077617   \n",
       "std           5.877050      0.813604      0.503339      0.308853   \n",
       "min        1980.000000      0.000000      0.000000      0.000000   \n",
       "25%        2003.000000      0.000000      0.000000      0.000000   \n",
       "50%        2007.000000      0.080000      0.020000      0.000000   \n",
       "75%        2010.000000      0.240000      0.110000      0.040000   \n",
       "max        2016.000000     41.360000     28.960000     10.220000   \n",
       "\n",
       "        Other_sales  Critic_Score  \n",
       "count  16715.000000   8137.000000  \n",
       "mean       0.047342     68.967679  \n",
       "std        0.186731     13.938165  \n",
       "min        0.000000     13.000000  \n",
       "25%        0.000000     60.000000  \n",
       "50%        0.010000     71.000000  \n",
       "75%        0.030000     79.000000  \n",
       "max       10.570000     98.000000  "
      ]
     },
     "execution_count": 5,
     "metadata": {},
     "output_type": "execute_result"
    }
   ],
   "source": [
    "games.describe()"
   ]
  },
  {
   "cell_type": "markdown",
   "id": "f2e83007-4806-464a-bf8d-24aae3ef5404",
   "metadata": {},
   "source": [
    "#### North America had the most sales."
   ]
  },
  {
   "cell_type": "code",
   "execution_count": 6,
   "id": "6fbe0297-094d-4b0d-9abc-62ef8a5b2f93",
   "metadata": {},
   "outputs": [
    {
     "name": "stdout",
     "output_type": "stream",
     "text": [
      "<class 'pandas.core.frame.DataFrame'>\n",
      "RangeIndex: 16715 entries, 0 to 16714\n",
      "Data columns (total 11 columns):\n",
      " #   Column           Non-Null Count  Dtype  \n",
      "---  ------           --------------  -----  \n",
      " 0   Name             16713 non-null  object \n",
      " 1   Platform         16715 non-null  object \n",
      " 2   Year_of_Release  16446 non-null  float64\n",
      " 3   Genre            16713 non-null  object \n",
      " 4   NA_sales         16715 non-null  float64\n",
      " 5   EU_sales         16715 non-null  float64\n",
      " 6   JP_sales         16715 non-null  float64\n",
      " 7   Other_sales      16715 non-null  float64\n",
      " 8   Critic_Score     8137 non-null   float64\n",
      " 9   User_Score       10014 non-null  object \n",
      " 10  Rating           9949 non-null   object \n",
      "dtypes: float64(6), object(5)\n",
      "memory usage: 1.4+ MB\n"
     ]
    }
   ],
   "source": [
    "games.info()"
   ]
  },
  {
   "cell_type": "code",
   "execution_count": 7,
   "id": "90646b8d-3d9f-4852-9d3e-c3c38cc0591e",
   "metadata": {},
   "outputs": [
    {
     "data": {
      "text/plain": [
       "98.0"
      ]
     },
     "execution_count": 7,
     "metadata": {},
     "output_type": "execute_result"
    }
   ],
   "source": [
    "games.Critic_Score.max()"
   ]
  },
  {
   "cell_type": "code",
   "execution_count": 8,
   "id": "be263e60-8390-4e45-af43-ea6437c054e4",
   "metadata": {},
   "outputs": [
    {
     "data": {
      "text/plain": [
       "User_Score\n",
       "tbd    2424\n",
       "7.8     324\n",
       "8       290\n",
       "8.2     282\n",
       "8.3     254\n",
       "       ... \n",
       "1.1       2\n",
       "1.9       2\n",
       "9.6       2\n",
       "0         1\n",
       "9.7       1\n",
       "Name: count, Length: 96, dtype: int64"
      ]
     },
     "execution_count": 8,
     "metadata": {},
     "output_type": "execute_result"
    }
   ],
   "source": [
    "games.User_Score.value_counts()"
   ]
  },
  {
   "cell_type": "markdown",
   "id": "4f7e5827-310a-4053-b2db-fea822e1a423",
   "metadata": {},
   "source": [
    "#### A quick study of the data shows:\n",
    "- North America had the highest video game sales overall.\n",
    "    \n",
    "- Column names need to be lowercase.\n",
    "\n",
    "- Year_of_Release, and Critic_Score should not have decimals. These datatypse will need to change to int.\n",
    "- User_Score appears to only go to 10, so this can stay as a decimal. But, the datatype will need to change to float.\n",
    "- The Rating column will need to change to type category.\n",
    "\n",
    "- These columns have NaN values and / or missing data: Name, Year_of_Release, Genre, Critic_Score, User_Score, Rating.\n",
    "- Luckily, there is no data missing from the sales columns: NA_sales, EU_sales, JP_sales."
   ]
  },
  {
   "cell_type": "markdown",
   "id": "9647b113-0e81-4aab-80c1-d70ce6c9d9a7",
   "metadata": {},
   "source": [
    "<div style=\"background-color: rgb(255, 176, 155); padding: 10px; border-radius: 5px;\">\n",
    "    <h2>Clean the data</h2>\n",
    "</div>"
   ]
  },
  {
   "cell_type": "markdown",
   "id": "2500f8d1-946f-4745-b346-35a349c382c5",
   "metadata": {},
   "source": [
    "### Rename the column names to lowercase."
   ]
  },
  {
   "cell_type": "code",
   "execution_count": 9,
   "id": "4fa6d909-a24a-4c52-9622-f0fa9f206f1c",
   "metadata": {},
   "outputs": [
    {
     "data": {
      "text/html": [
       "<div>\n",
       "<style scoped>\n",
       "    .dataframe tbody tr th:only-of-type {\n",
       "        vertical-align: middle;\n",
       "    }\n",
       "\n",
       "    .dataframe tbody tr th {\n",
       "        vertical-align: top;\n",
       "    }\n",
       "\n",
       "    .dataframe thead th {\n",
       "        text-align: right;\n",
       "    }\n",
       "</style>\n",
       "<table border=\"1\" class=\"dataframe\">\n",
       "  <thead>\n",
       "    <tr style=\"text-align: right;\">\n",
       "      <th></th>\n",
       "      <th>name</th>\n",
       "      <th>platform</th>\n",
       "      <th>year</th>\n",
       "      <th>genre</th>\n",
       "      <th>sales_na</th>\n",
       "      <th>sales_eu</th>\n",
       "      <th>sales_jp</th>\n",
       "      <th>sales_other</th>\n",
       "      <th>critic_score</th>\n",
       "      <th>user_score</th>\n",
       "      <th>rating</th>\n",
       "    </tr>\n",
       "  </thead>\n",
       "  <tbody>\n",
       "    <tr>\n",
       "      <th>0</th>\n",
       "      <td>Wii Sports</td>\n",
       "      <td>Wii</td>\n",
       "      <td>2006.0</td>\n",
       "      <td>Sports</td>\n",
       "      <td>41.36</td>\n",
       "      <td>28.96</td>\n",
       "      <td>3.77</td>\n",
       "      <td>8.45</td>\n",
       "      <td>76.0</td>\n",
       "      <td>8</td>\n",
       "      <td>E</td>\n",
       "    </tr>\n",
       "    <tr>\n",
       "      <th>1</th>\n",
       "      <td>Super Mario Bros.</td>\n",
       "      <td>NES</td>\n",
       "      <td>1985.0</td>\n",
       "      <td>Platform</td>\n",
       "      <td>29.08</td>\n",
       "      <td>3.58</td>\n",
       "      <td>6.81</td>\n",
       "      <td>0.77</td>\n",
       "      <td>NaN</td>\n",
       "      <td>NaN</td>\n",
       "      <td>NaN</td>\n",
       "    </tr>\n",
       "    <tr>\n",
       "      <th>2</th>\n",
       "      <td>Mario Kart Wii</td>\n",
       "      <td>Wii</td>\n",
       "      <td>2008.0</td>\n",
       "      <td>Racing</td>\n",
       "      <td>15.68</td>\n",
       "      <td>12.76</td>\n",
       "      <td>3.79</td>\n",
       "      <td>3.29</td>\n",
       "      <td>82.0</td>\n",
       "      <td>8.3</td>\n",
       "      <td>E</td>\n",
       "    </tr>\n",
       "  </tbody>\n",
       "</table>\n",
       "</div>"
      ],
      "text/plain": [
       "                name platform    year     genre  sales_na  sales_eu  sales_jp  \\\n",
       "0         Wii Sports      Wii  2006.0    Sports     41.36     28.96      3.77   \n",
       "1  Super Mario Bros.      NES  1985.0  Platform     29.08      3.58      6.81   \n",
       "2     Mario Kart Wii      Wii  2008.0    Racing     15.68     12.76      3.79   \n",
       "\n",
       "   sales_other  critic_score user_score rating  \n",
       "0         8.45          76.0          8      E  \n",
       "1         0.77           NaN        NaN    NaN  \n",
       "2         3.29          82.0        8.3      E  "
      ]
     },
     "metadata": {},
     "output_type": "display_data"
    }
   ],
   "source": [
    "# New column names\n",
    "new_columns = ['name', 'platform', 'year', 'genre', 'sales_na', 'sales_eu', 'sales_jp', 'sales_other', 'critic_score', 'user_score', 'rating']\n",
    "\n",
    "# Assign the new column names to the DataFrame\n",
    "games.columns = new_columns\n",
    "\n",
    "#Display dataframe with new lowercase names\n",
    "display(games.head(3))"
   ]
  },
  {
   "cell_type": "markdown",
   "id": "4ecc9e0a-c2ff-4db3-8532-ff98acfe44f0",
   "metadata": {},
   "source": [
    "### Get rid of NaN values."
   ]
  },
  {
   "cell_type": "markdown",
   "id": "b7567e72-ebe3-4c4d-9a11-bd89c2d4a687",
   "metadata": {},
   "source": [
    "#### Impute data for the 'year' column."
   ]
  },
  {
   "cell_type": "code",
   "execution_count": 10,
   "id": "97cc6f46-1049-48a0-8fe3-34b383b7c7ad",
   "metadata": {},
   "outputs": [
    {
     "name": "stdout",
     "output_type": "stream",
     "text": [
      "Grouped DataFrame with Counts:\n",
      "                               name    year  count\n",
      "0                    Beyblade Burst  2016.0      1\n",
      "1                 Fire Emblem Fates  2015.0      1\n",
      "2              Frozen: Olaf's Quest  2013.0      2\n",
      "3        Haikyu!! Cross Team Match!  2016.0      1\n",
      "4                 Tales of Xillia 2  2012.0      1\n",
      "...                             ...     ...    ...\n",
      "12190            thinkSMART FAMILY!  2010.0      1\n",
      "12191    thinkSMART: Chess for Kids  2011.0      1\n",
      "12192                  uDraw Studio  2010.0      1\n",
      "12193  uDraw Studio: Instant Artist  2011.0      2\n",
      "12194  ¡Shin Chan Flipa en colores!  2007.0      1\n",
      "\n",
      "[12195 rows x 3 columns]\n"
     ]
    }
   ],
   "source": [
    "# Group by 'name' and 'year' and count occurrences\n",
    "grouped = games.groupby(['name', 'year']).size().reset_index(name='count')\n",
    "print(\"Grouped DataFrame with Counts:\")\n",
    "print(grouped)"
   ]
  },
  {
   "cell_type": "code",
   "execution_count": 11,
   "id": "564ff85c-90a6-4a74-be16-645d93dd3a26",
   "metadata": {},
   "outputs": [
    {
     "name": "stdout",
     "output_type": "stream",
     "text": [
      "\n",
      "Most Common Year for Each Game Name:\n",
      "name\n",
      " Beyblade Burst                 2016.0\n",
      " Fire Emblem Fates              2015.0\n",
      " Frozen: Olaf's Quest           2013.0\n",
      " Haikyu!! Cross Team Match!     2016.0\n",
      " Tales of Xillia 2              2012.0\n",
      "                                 ...  \n",
      "thinkSMART: Chess for Kids      2011.0\n",
      "uDraw Studio                    2010.0\n",
      "uDraw Studio: Instant Artist    2011.0\n",
      "wwe Smackdown vs. Raw 2006         NaN\n",
      "¡Shin Chan Flipa en colores!    2007.0\n",
      "Name: year, Length: 11559, dtype: float64\n"
     ]
    }
   ],
   "source": [
    "# Additional analysis: Determine the most common year for each game\n",
    "#Apply a function to each 'year' group.\n",
    "#Calculates the mode (most frequent value) of the 'year' values in the 'name' group.\n",
    "#['0'] selects the first mode value if mode() returns multiple values. \n",
    "# Check if the mode calculation returns an empty result. If it does, it assigns np.nan instead. \n",
    "common_year = games.groupby('name')['year'].apply(lambda x: x.mode().iloc[0] if not x.mode().empty else None)\n",
    "\n",
    "print(\"\\nMost Common Year for Each Game Name:\")\n",
    "print(common_year)"
   ]
  },
  {
   "cell_type": "code",
   "execution_count": 12,
   "id": "593c21eb-cb43-4b05-a778-a0b57b82c04c",
   "metadata": {},
   "outputs": [],
   "source": [
    "#Take the above info, and now fill in the missing values.  \n",
    "#Create a dictionary from the common_year Series\n",
    "common_year_dict = common_year.to_dict()\n",
    "\n",
    "#Use this dictionary to fill in missing 'year' values\n",
    "#If row is found in common_year_dict, it returns the most common year for that game.\n",
    "games['year'] = games.apply(lambda row: common_year_dict.get(row['name'], row['year']) if pd.isna(row['year']) else row['year'], axis=1)"
   ]
  },
  {
   "cell_type": "code",
   "execution_count": 13,
   "id": "4ec757fd-3f11-4c32-a01b-39d86c2731c9",
   "metadata": {},
   "outputs": [
    {
     "name": "stdout",
     "output_type": "stream",
     "text": [
      "<class 'pandas.core.frame.DataFrame'>\n",
      "RangeIndex: 16715 entries, 0 to 16714\n",
      "Data columns (total 11 columns):\n",
      " #   Column        Non-Null Count  Dtype  \n",
      "---  ------        --------------  -----  \n",
      " 0   name          16713 non-null  object \n",
      " 1   platform      16715 non-null  object \n",
      " 2   year          16569 non-null  float64\n",
      " 3   genre         16713 non-null  object \n",
      " 4   sales_na      16715 non-null  float64\n",
      " 5   sales_eu      16715 non-null  float64\n",
      " 6   sales_jp      16715 non-null  float64\n",
      " 7   sales_other   16715 non-null  float64\n",
      " 8   critic_score  8137 non-null   float64\n",
      " 9   user_score    10014 non-null  object \n",
      " 10  rating        9949 non-null   object \n",
      "dtypes: float64(6), object(5)\n",
      "memory usage: 1.4+ MB\n"
     ]
    }
   ],
   "source": [
    "games.info()"
   ]
  },
  {
   "cell_type": "markdown",
   "id": "4ab60861-f432-4fcb-bed9-7390eaee14ac",
   "metadata": {},
   "source": [
    "#### There are still 146 NaN values in the 'year' column"
   ]
  },
  {
   "cell_type": "code",
   "execution_count": 14,
   "id": "d958fc05-a2b4-42c0-b7de-63b004a8a68a",
   "metadata": {},
   "outputs": [
    {
     "name": "stdout",
     "output_type": "stream",
     "text": [
      "\n",
      "DataFrame after cleaning 'year' column:\n"
     ]
    },
    {
     "data": {
      "text/html": [
       "<div>\n",
       "<style scoped>\n",
       "    .dataframe tbody tr th:only-of-type {\n",
       "        vertical-align: middle;\n",
       "    }\n",
       "\n",
       "    .dataframe tbody tr th {\n",
       "        vertical-align: top;\n",
       "    }\n",
       "\n",
       "    .dataframe thead th {\n",
       "        text-align: right;\n",
       "    }\n",
       "</style>\n",
       "<table border=\"1\" class=\"dataframe\">\n",
       "  <thead>\n",
       "    <tr style=\"text-align: right;\">\n",
       "      <th></th>\n",
       "      <th>name</th>\n",
       "      <th>platform</th>\n",
       "      <th>year</th>\n",
       "      <th>genre</th>\n",
       "      <th>sales_na</th>\n",
       "      <th>sales_eu</th>\n",
       "      <th>sales_jp</th>\n",
       "      <th>sales_other</th>\n",
       "      <th>critic_score</th>\n",
       "      <th>user_score</th>\n",
       "      <th>rating</th>\n",
       "    </tr>\n",
       "  </thead>\n",
       "  <tbody>\n",
       "    <tr>\n",
       "      <th>0</th>\n",
       "      <td>Wii Sports</td>\n",
       "      <td>Wii</td>\n",
       "      <td>2006</td>\n",
       "      <td>Sports</td>\n",
       "      <td>41.36</td>\n",
       "      <td>28.96</td>\n",
       "      <td>3.77</td>\n",
       "      <td>8.45</td>\n",
       "      <td>76.0</td>\n",
       "      <td>8</td>\n",
       "      <td>E</td>\n",
       "    </tr>\n",
       "    <tr>\n",
       "      <th>1</th>\n",
       "      <td>Super Mario Bros.</td>\n",
       "      <td>NES</td>\n",
       "      <td>1985</td>\n",
       "      <td>Platform</td>\n",
       "      <td>29.08</td>\n",
       "      <td>3.58</td>\n",
       "      <td>6.81</td>\n",
       "      <td>0.77</td>\n",
       "      <td>NaN</td>\n",
       "      <td>NaN</td>\n",
       "      <td>NaN</td>\n",
       "    </tr>\n",
       "    <tr>\n",
       "      <th>2</th>\n",
       "      <td>Mario Kart Wii</td>\n",
       "      <td>Wii</td>\n",
       "      <td>2008</td>\n",
       "      <td>Racing</td>\n",
       "      <td>15.68</td>\n",
       "      <td>12.76</td>\n",
       "      <td>3.79</td>\n",
       "      <td>3.29</td>\n",
       "      <td>82.0</td>\n",
       "      <td>8.3</td>\n",
       "      <td>E</td>\n",
       "    </tr>\n",
       "    <tr>\n",
       "      <th>3</th>\n",
       "      <td>Wii Sports Resort</td>\n",
       "      <td>Wii</td>\n",
       "      <td>2009</td>\n",
       "      <td>Sports</td>\n",
       "      <td>15.61</td>\n",
       "      <td>10.93</td>\n",
       "      <td>3.28</td>\n",
       "      <td>2.95</td>\n",
       "      <td>80.0</td>\n",
       "      <td>8</td>\n",
       "      <td>E</td>\n",
       "    </tr>\n",
       "    <tr>\n",
       "      <th>4</th>\n",
       "      <td>Pokemon Red/Pokemon Blue</td>\n",
       "      <td>GB</td>\n",
       "      <td>1996</td>\n",
       "      <td>Role-Playing</td>\n",
       "      <td>11.27</td>\n",
       "      <td>8.89</td>\n",
       "      <td>10.22</td>\n",
       "      <td>1.00</td>\n",
       "      <td>NaN</td>\n",
       "      <td>NaN</td>\n",
       "      <td>NaN</td>\n",
       "    </tr>\n",
       "    <tr>\n",
       "      <th>...</th>\n",
       "      <td>...</td>\n",
       "      <td>...</td>\n",
       "      <td>...</td>\n",
       "      <td>...</td>\n",
       "      <td>...</td>\n",
       "      <td>...</td>\n",
       "      <td>...</td>\n",
       "      <td>...</td>\n",
       "      <td>...</td>\n",
       "      <td>...</td>\n",
       "      <td>...</td>\n",
       "    </tr>\n",
       "    <tr>\n",
       "      <th>16710</th>\n",
       "      <td>Samurai Warriors: Sanada Maru</td>\n",
       "      <td>PS3</td>\n",
       "      <td>2016</td>\n",
       "      <td>Action</td>\n",
       "      <td>0.00</td>\n",
       "      <td>0.00</td>\n",
       "      <td>0.01</td>\n",
       "      <td>0.00</td>\n",
       "      <td>NaN</td>\n",
       "      <td>NaN</td>\n",
       "      <td>NaN</td>\n",
       "    </tr>\n",
       "    <tr>\n",
       "      <th>16711</th>\n",
       "      <td>LMA Manager 2007</td>\n",
       "      <td>X360</td>\n",
       "      <td>2006</td>\n",
       "      <td>Sports</td>\n",
       "      <td>0.00</td>\n",
       "      <td>0.01</td>\n",
       "      <td>0.00</td>\n",
       "      <td>0.00</td>\n",
       "      <td>NaN</td>\n",
       "      <td>NaN</td>\n",
       "      <td>NaN</td>\n",
       "    </tr>\n",
       "    <tr>\n",
       "      <th>16712</th>\n",
       "      <td>Haitaka no Psychedelica</td>\n",
       "      <td>PSV</td>\n",
       "      <td>2016</td>\n",
       "      <td>Adventure</td>\n",
       "      <td>0.00</td>\n",
       "      <td>0.00</td>\n",
       "      <td>0.01</td>\n",
       "      <td>0.00</td>\n",
       "      <td>NaN</td>\n",
       "      <td>NaN</td>\n",
       "      <td>NaN</td>\n",
       "    </tr>\n",
       "    <tr>\n",
       "      <th>16713</th>\n",
       "      <td>Spirits &amp; Spells</td>\n",
       "      <td>GBA</td>\n",
       "      <td>2003</td>\n",
       "      <td>Platform</td>\n",
       "      <td>0.01</td>\n",
       "      <td>0.00</td>\n",
       "      <td>0.00</td>\n",
       "      <td>0.00</td>\n",
       "      <td>NaN</td>\n",
       "      <td>NaN</td>\n",
       "      <td>NaN</td>\n",
       "    </tr>\n",
       "    <tr>\n",
       "      <th>16714</th>\n",
       "      <td>Winning Post 8 2016</td>\n",
       "      <td>PSV</td>\n",
       "      <td>2016</td>\n",
       "      <td>Simulation</td>\n",
       "      <td>0.00</td>\n",
       "      <td>0.00</td>\n",
       "      <td>0.01</td>\n",
       "      <td>0.00</td>\n",
       "      <td>NaN</td>\n",
       "      <td>NaN</td>\n",
       "      <td>NaN</td>\n",
       "    </tr>\n",
       "  </tbody>\n",
       "</table>\n",
       "<p>16715 rows × 11 columns</p>\n",
       "</div>"
      ],
      "text/plain": [
       "                                name platform  year         genre  sales_na  \\\n",
       "0                         Wii Sports      Wii  2006        Sports     41.36   \n",
       "1                  Super Mario Bros.      NES  1985      Platform     29.08   \n",
       "2                     Mario Kart Wii      Wii  2008        Racing     15.68   \n",
       "3                  Wii Sports Resort      Wii  2009        Sports     15.61   \n",
       "4           Pokemon Red/Pokemon Blue       GB  1996  Role-Playing     11.27   \n",
       "...                              ...      ...   ...           ...       ...   \n",
       "16710  Samurai Warriors: Sanada Maru      PS3  2016        Action      0.00   \n",
       "16711               LMA Manager 2007     X360  2006        Sports      0.00   \n",
       "16712        Haitaka no Psychedelica      PSV  2016     Adventure      0.00   \n",
       "16713               Spirits & Spells      GBA  2003      Platform      0.01   \n",
       "16714            Winning Post 8 2016      PSV  2016    Simulation      0.00   \n",
       "\n",
       "       sales_eu  sales_jp  sales_other  critic_score user_score rating  \n",
       "0         28.96      3.77         8.45          76.0          8      E  \n",
       "1          3.58      6.81         0.77           NaN        NaN    NaN  \n",
       "2         12.76      3.79         3.29          82.0        8.3      E  \n",
       "3         10.93      3.28         2.95          80.0          8      E  \n",
       "4          8.89     10.22         1.00           NaN        NaN    NaN  \n",
       "...         ...       ...          ...           ...        ...    ...  \n",
       "16710      0.00      0.01         0.00           NaN        NaN    NaN  \n",
       "16711      0.01      0.00         0.00           NaN        NaN    NaN  \n",
       "16712      0.00      0.01         0.00           NaN        NaN    NaN  \n",
       "16713      0.00      0.00         0.00           NaN        NaN    NaN  \n",
       "16714      0.00      0.01         0.00           NaN        NaN    NaN  \n",
       "\n",
       "[16715 rows x 11 columns]"
      ]
     },
     "metadata": {},
     "output_type": "display_data"
    }
   ],
   "source": [
    "#Fill the remaining 146 NaN values with '0' before changing type from float to int. \n",
    "#Get rid of decimal in year column.\n",
    "games['year'] = games['year'].fillna(0).astype(int)\n",
    "\n",
    "# Verify the changes\n",
    "print(\"\\nDataFrame after cleaning 'year' column:\")\n",
    "display(games)"
   ]
  },
  {
   "cell_type": "code",
   "execution_count": 15,
   "id": "500463aa-ba74-456d-adfb-ecb2f9f81977",
   "metadata": {},
   "outputs": [
    {
     "data": {
      "text/plain": [
       "year\n",
       "2008    1441\n",
       "2009    1430\n",
       "2010    1270\n",
       "2007    1202\n",
       "2011    1153\n",
       "2006    1019\n",
       "2005     948\n",
       "2002     845\n",
       "2003     783\n",
       "2004     764\n",
       "2012     662\n",
       "2015     606\n",
       "2014     581\n",
       "2013     548\n",
       "2016     502\n",
       "2001     486\n",
       "1998     379\n",
       "2000     351\n",
       "1999     339\n",
       "1997     289\n",
       "1996     263\n",
       "1995     219\n",
       "0        146\n",
       "1994     122\n",
       "1993      62\n",
       "1981      46\n",
       "1992      43\n",
       "1991      41\n",
       "1982      36\n",
       "1986      21\n",
       "1989      17\n",
       "1983      17\n",
       "1990      16\n",
       "1987      16\n",
       "1988      15\n",
       "1985      14\n",
       "1984      14\n",
       "1980       9\n",
       "Name: count, dtype: int64"
      ]
     },
     "execution_count": 15,
     "metadata": {},
     "output_type": "execute_result"
    }
   ],
   "source": [
    "games.year.value_counts()"
   ]
  },
  {
   "cell_type": "markdown",
   "id": "c596a28f-ad19-41c7-b54d-103b054565bf",
   "metadata": {},
   "source": [
    "#### Get rid of NaN values, and decimals in 'critic_score' column. There are currently 8578 NaN values."
   ]
  },
  {
   "cell_type": "code",
   "execution_count": 16,
   "id": "3684ead5-cd13-41a2-bbd8-4b036583375a",
   "metadata": {},
   "outputs": [
    {
     "data": {
      "text/plain": [
       "critic_score\n",
       "70.0    256\n",
       "71.0    254\n",
       "75.0    245\n",
       "78.0    240\n",
       "73.0    238\n",
       "       ... \n",
       "20.0      3\n",
       "21.0      1\n",
       "17.0      1\n",
       "22.0      1\n",
       "13.0      1\n",
       "Name: count, Length: 82, dtype: int64"
      ]
     },
     "execution_count": 16,
     "metadata": {},
     "output_type": "execute_result"
    }
   ],
   "source": [
    "games.critic_score.value_counts()"
   ]
  },
  {
   "cell_type": "markdown",
   "id": "2f462d92-43be-40ab-ae0d-df3bd1e99f01",
   "metadata": {},
   "source": [
    "### Impute the data for 'critic_score'"
   ]
  },
  {
   "cell_type": "code",
   "execution_count": 17,
   "id": "59c1d1fe-da82-45da-b1f4-c8b490d91650",
   "metadata": {},
   "outputs": [],
   "source": [
    "# Group by 'genre' and calculate the median critic_score for each group\n",
    "genre_medians_critic = games.groupby('genre')['critic_score'].transform('median')\n",
    "\n",
    "# Fill NaN values in 'critic_score' column with the Critic's median score for that genre\n",
    "games['critic_score'] = games['critic_score'].fillna(genre_medians_critic)"
   ]
  },
  {
   "cell_type": "code",
   "execution_count": 18,
   "id": "5161114b-7aab-4560-ac11-cfa935a56903",
   "metadata": {},
   "outputs": [
    {
     "name": "stdout",
     "output_type": "stream",
     "text": [
      "<class 'pandas.core.frame.DataFrame'>\n",
      "RangeIndex: 16715 entries, 0 to 16714\n",
      "Data columns (total 11 columns):\n",
      " #   Column        Non-Null Count  Dtype  \n",
      "---  ------        --------------  -----  \n",
      " 0   name          16713 non-null  object \n",
      " 1   platform      16715 non-null  object \n",
      " 2   year          16715 non-null  int64  \n",
      " 3   genre         16713 non-null  object \n",
      " 4   sales_na      16715 non-null  float64\n",
      " 5   sales_eu      16715 non-null  float64\n",
      " 6   sales_jp      16715 non-null  float64\n",
      " 7   sales_other   16715 non-null  float64\n",
      " 8   critic_score  16713 non-null  float64\n",
      " 9   user_score    10014 non-null  object \n",
      " 10  rating        9949 non-null   object \n",
      "dtypes: float64(5), int64(1), object(5)\n",
      "memory usage: 1.4+ MB\n"
     ]
    }
   ],
   "source": [
    "games.info()"
   ]
  },
  {
   "cell_type": "markdown",
   "id": "8b26b37e-87ec-466c-b406-a317ebfac900",
   "metadata": {},
   "source": [
    "#### A few of the columns have only 2 rows with missing values. Could it be that there are 2 rows that have missing values in many rows? If so, those two rows should be dropped from the dataframe."
   ]
  },
  {
   "cell_type": "code",
   "execution_count": 19,
   "id": "50da15c2-07ac-4765-ac44-4683fa1c4e3b",
   "metadata": {},
   "outputs": [
    {
     "name": "stdout",
     "output_type": "stream",
     "text": [
      "Rows with NaN values in 'critic_score':\n"
     ]
    },
    {
     "data": {
      "text/html": [
       "<div>\n",
       "<style scoped>\n",
       "    .dataframe tbody tr th:only-of-type {\n",
       "        vertical-align: middle;\n",
       "    }\n",
       "\n",
       "    .dataframe tbody tr th {\n",
       "        vertical-align: top;\n",
       "    }\n",
       "\n",
       "    .dataframe thead th {\n",
       "        text-align: right;\n",
       "    }\n",
       "</style>\n",
       "<table border=\"1\" class=\"dataframe\">\n",
       "  <thead>\n",
       "    <tr style=\"text-align: right;\">\n",
       "      <th></th>\n",
       "      <th>name</th>\n",
       "      <th>platform</th>\n",
       "      <th>year</th>\n",
       "      <th>genre</th>\n",
       "      <th>sales_na</th>\n",
       "      <th>sales_eu</th>\n",
       "      <th>sales_jp</th>\n",
       "      <th>sales_other</th>\n",
       "      <th>critic_score</th>\n",
       "      <th>user_score</th>\n",
       "      <th>rating</th>\n",
       "    </tr>\n",
       "  </thead>\n",
       "  <tbody>\n",
       "    <tr>\n",
       "      <th>659</th>\n",
       "      <td>NaN</td>\n",
       "      <td>GEN</td>\n",
       "      <td>1993</td>\n",
       "      <td>NaN</td>\n",
       "      <td>1.78</td>\n",
       "      <td>0.53</td>\n",
       "      <td>0.00</td>\n",
       "      <td>0.08</td>\n",
       "      <td>NaN</td>\n",
       "      <td>NaN</td>\n",
       "      <td>NaN</td>\n",
       "    </tr>\n",
       "    <tr>\n",
       "      <th>14244</th>\n",
       "      <td>NaN</td>\n",
       "      <td>GEN</td>\n",
       "      <td>1993</td>\n",
       "      <td>NaN</td>\n",
       "      <td>0.00</td>\n",
       "      <td>0.00</td>\n",
       "      <td>0.03</td>\n",
       "      <td>0.00</td>\n",
       "      <td>NaN</td>\n",
       "      <td>NaN</td>\n",
       "      <td>NaN</td>\n",
       "    </tr>\n",
       "  </tbody>\n",
       "</table>\n",
       "</div>"
      ],
      "text/plain": [
       "      name platform  year genre  sales_na  sales_eu  sales_jp  sales_other  \\\n",
       "659    NaN      GEN  1993   NaN      1.78      0.53      0.00         0.08   \n",
       "14244  NaN      GEN  1993   NaN      0.00      0.00      0.03         0.00   \n",
       "\n",
       "       critic_score user_score rating  \n",
       "659             NaN        NaN    NaN  \n",
       "14244           NaN        NaN    NaN  "
      ]
     },
     "metadata": {},
     "output_type": "display_data"
    }
   ],
   "source": [
    "# Filter rows where 'critic_score' is NaN\n",
    "nan_critic_score_rows = games[games['critic_score'].isna()]\n",
    "\n",
    "# Display the filtered rows\n",
    "print(\"Rows with NaN values in 'critic_score':\")\n",
    "display(nan_critic_score_rows)"
   ]
  },
  {
   "cell_type": "markdown",
   "id": "bb8eff84-90ee-4cd8-8ccc-fed63dbca5b3",
   "metadata": {},
   "source": [
    "#### Yes, those 2 rows have multiple columns with NaN values. These 2 rows will be dropped from the dataframe."
   ]
  },
  {
   "cell_type": "code",
   "execution_count": 20,
   "id": "f147c9de-fd72-4353-ae53-134d2ce661e1",
   "metadata": {},
   "outputs": [
    {
     "name": "stdout",
     "output_type": "stream",
     "text": [
      "\n",
      "DataFrame after dropping rows with NaN values in 'critic_score':\n"
     ]
    },
    {
     "data": {
      "text/html": [
       "<div>\n",
       "<style scoped>\n",
       "    .dataframe tbody tr th:only-of-type {\n",
       "        vertical-align: middle;\n",
       "    }\n",
       "\n",
       "    .dataframe tbody tr th {\n",
       "        vertical-align: top;\n",
       "    }\n",
       "\n",
       "    .dataframe thead th {\n",
       "        text-align: right;\n",
       "    }\n",
       "</style>\n",
       "<table border=\"1\" class=\"dataframe\">\n",
       "  <thead>\n",
       "    <tr style=\"text-align: right;\">\n",
       "      <th></th>\n",
       "      <th>name</th>\n",
       "      <th>platform</th>\n",
       "      <th>year</th>\n",
       "      <th>genre</th>\n",
       "      <th>sales_na</th>\n",
       "      <th>sales_eu</th>\n",
       "      <th>sales_jp</th>\n",
       "      <th>sales_other</th>\n",
       "      <th>critic_score</th>\n",
       "      <th>user_score</th>\n",
       "      <th>rating</th>\n",
       "    </tr>\n",
       "  </thead>\n",
       "  <tbody>\n",
       "    <tr>\n",
       "      <th>0</th>\n",
       "      <td>Wii Sports</td>\n",
       "      <td>Wii</td>\n",
       "      <td>2006</td>\n",
       "      <td>Sports</td>\n",
       "      <td>41.36</td>\n",
       "      <td>28.96</td>\n",
       "      <td>3.77</td>\n",
       "      <td>8.45</td>\n",
       "      <td>76.0</td>\n",
       "      <td>8</td>\n",
       "      <td>E</td>\n",
       "    </tr>\n",
       "    <tr>\n",
       "      <th>1</th>\n",
       "      <td>Super Mario Bros.</td>\n",
       "      <td>NES</td>\n",
       "      <td>1985</td>\n",
       "      <td>Platform</td>\n",
       "      <td>29.08</td>\n",
       "      <td>3.58</td>\n",
       "      <td>6.81</td>\n",
       "      <td>0.77</td>\n",
       "      <td>69.0</td>\n",
       "      <td>NaN</td>\n",
       "      <td>NaN</td>\n",
       "    </tr>\n",
       "    <tr>\n",
       "      <th>2</th>\n",
       "      <td>Mario Kart Wii</td>\n",
       "      <td>Wii</td>\n",
       "      <td>2008</td>\n",
       "      <td>Racing</td>\n",
       "      <td>15.68</td>\n",
       "      <td>12.76</td>\n",
       "      <td>3.79</td>\n",
       "      <td>3.29</td>\n",
       "      <td>82.0</td>\n",
       "      <td>8.3</td>\n",
       "      <td>E</td>\n",
       "    </tr>\n",
       "    <tr>\n",
       "      <th>3</th>\n",
       "      <td>Wii Sports Resort</td>\n",
       "      <td>Wii</td>\n",
       "      <td>2009</td>\n",
       "      <td>Sports</td>\n",
       "      <td>15.61</td>\n",
       "      <td>10.93</td>\n",
       "      <td>3.28</td>\n",
       "      <td>2.95</td>\n",
       "      <td>80.0</td>\n",
       "      <td>8</td>\n",
       "      <td>E</td>\n",
       "    </tr>\n",
       "    <tr>\n",
       "      <th>4</th>\n",
       "      <td>Pokemon Red/Pokemon Blue</td>\n",
       "      <td>GB</td>\n",
       "      <td>1996</td>\n",
       "      <td>Role-Playing</td>\n",
       "      <td>11.27</td>\n",
       "      <td>8.89</td>\n",
       "      <td>10.22</td>\n",
       "      <td>1.00</td>\n",
       "      <td>74.0</td>\n",
       "      <td>NaN</td>\n",
       "      <td>NaN</td>\n",
       "    </tr>\n",
       "  </tbody>\n",
       "</table>\n",
       "</div>"
      ],
      "text/plain": [
       "                       name platform  year         genre  sales_na  sales_eu  \\\n",
       "0                Wii Sports      Wii  2006        Sports     41.36     28.96   \n",
       "1         Super Mario Bros.      NES  1985      Platform     29.08      3.58   \n",
       "2            Mario Kart Wii      Wii  2008        Racing     15.68     12.76   \n",
       "3         Wii Sports Resort      Wii  2009        Sports     15.61     10.93   \n",
       "4  Pokemon Red/Pokemon Blue       GB  1996  Role-Playing     11.27      8.89   \n",
       "\n",
       "   sales_jp  sales_other  critic_score user_score rating  \n",
       "0      3.77         8.45          76.0          8      E  \n",
       "1      6.81         0.77          69.0        NaN    NaN  \n",
       "2      3.79         3.29          82.0        8.3      E  \n",
       "3      3.28         2.95          80.0          8      E  \n",
       "4     10.22         1.00          74.0        NaN    NaN  "
      ]
     },
     "metadata": {},
     "output_type": "display_data"
    }
   ],
   "source": [
    "# Drop the 2 rows where 'critic_score' is NaN\n",
    "games = games.dropna(subset=['critic_score'])\n",
    "\n",
    "# Verify the changes by displaying the modified DataFrame\n",
    "print(\"\\nDataFrame after dropping rows with NaN values in 'critic_score':\")\n",
    "display(games.head(5))"
   ]
  },
  {
   "cell_type": "markdown",
   "id": "4efac032-26c9-4465-a2e7-ea3600cf3ccb",
   "metadata": {},
   "source": [
    "### Clean NaN from 'user_score' column, and change datatype to float."
   ]
  },
  {
   "cell_type": "code",
   "execution_count": 21,
   "id": "022a0e60-fb13-48d8-a40e-451289654e34",
   "metadata": {},
   "outputs": [
    {
     "name": "stdout",
     "output_type": "stream",
     "text": [
      "<class 'pandas.core.frame.DataFrame'>\n",
      "Index: 16713 entries, 0 to 16714\n",
      "Data columns (total 11 columns):\n",
      " #   Column        Non-Null Count  Dtype  \n",
      "---  ------        --------------  -----  \n",
      " 0   name          16713 non-null  object \n",
      " 1   platform      16713 non-null  object \n",
      " 2   year          16713 non-null  int64  \n",
      " 3   genre         16713 non-null  object \n",
      " 4   sales_na      16713 non-null  float64\n",
      " 5   sales_eu      16713 non-null  float64\n",
      " 6   sales_jp      16713 non-null  float64\n",
      " 7   sales_other   16713 non-null  float64\n",
      " 8   critic_score  16713 non-null  float64\n",
      " 9   user_score    10014 non-null  object \n",
      " 10  rating        9949 non-null   object \n",
      "dtypes: float64(5), int64(1), object(5)\n",
      "memory usage: 1.5+ MB\n"
     ]
    }
   ],
   "source": [
    "games.info()"
   ]
  },
  {
   "cell_type": "markdown",
   "id": "cede1d8d-457d-475a-bc48-122585a7bb1b",
   "metadata": {},
   "source": [
    "#### Since the user_score only goes to 10, I will impute the median score, for that genre. I will leave the decimals."
   ]
  },
  {
   "cell_type": "code",
   "execution_count": 22,
   "id": "d41eebe7-6a0b-4de5-adaf-177eb3e643fd",
   "metadata": {},
   "outputs": [],
   "source": [
    "games['user_score'] = games['user_score'].replace('tbd', np.nan)\n",
    "\n",
    "# Change 'user_score' from float to int type.\n",
    "games['user_score'] = games['user_score'].astype(float)"
   ]
  },
  {
   "cell_type": "code",
   "execution_count": 23,
   "id": "893354a4-14ff-4107-849a-be477b200dca",
   "metadata": {},
   "outputs": [],
   "source": [
    "# Group by 'genre' and calculate the median user_score for each group\n",
    "genre_medians_user = games.groupby('genre')['user_score'].transform('median')\n",
    "\n",
    "# Fill NaN values in 'user_score' column with the User's median score for that genre\n",
    "games['user_score'] = games['user_score'].fillna(genre_medians_user)"
   ]
  },
  {
   "cell_type": "code",
   "execution_count": 24,
   "id": "d6ace417-b913-4938-ae86-e4be3480c2d4",
   "metadata": {},
   "outputs": [
    {
     "name": "stdout",
     "output_type": "stream",
     "text": [
      "<class 'pandas.core.frame.DataFrame'>\n",
      "Index: 16713 entries, 0 to 16714\n",
      "Data columns (total 11 columns):\n",
      " #   Column        Non-Null Count  Dtype  \n",
      "---  ------        --------------  -----  \n",
      " 0   name          16713 non-null  object \n",
      " 1   platform      16713 non-null  object \n",
      " 2   year          16713 non-null  int64  \n",
      " 3   genre         16713 non-null  object \n",
      " 4   sales_na      16713 non-null  float64\n",
      " 5   sales_eu      16713 non-null  float64\n",
      " 6   sales_jp      16713 non-null  float64\n",
      " 7   sales_other   16713 non-null  float64\n",
      " 8   critic_score  16713 non-null  float64\n",
      " 9   user_score    16713 non-null  float64\n",
      " 10  rating        9949 non-null   object \n",
      "dtypes: float64(6), int64(1), object(4)\n",
      "memory usage: 1.5+ MB\n"
     ]
    }
   ],
   "source": [
    "games.info()"
   ]
  },
  {
   "cell_type": "markdown",
   "id": "1fca2e39-4792-440b-b182-659b7062a087",
   "metadata": {},
   "source": [
    "### Change datatype of 'rating' column"
   ]
  },
  {
   "cell_type": "markdown",
   "id": "1c36cd9d-cc48-43b4-b567-98a4536edf7b",
   "metadata": {},
   "source": [
    "games.info()"
   ]
  },
  {
   "cell_type": "code",
   "execution_count": null,
   "id": "a0a5cac7-458a-44a5-9518-e0ab3b9b94cb",
   "metadata": {},
   "outputs": [],
   "source": []
  },
  {
   "cell_type": "code",
   "execution_count": null,
   "id": "5df78b8e-37a9-43d6-8c09-edb40678e0ac",
   "metadata": {},
   "outputs": [],
   "source": []
  },
  {
   "cell_type": "code",
   "execution_count": null,
   "id": "0ed14069-cd7e-43b5-a7ba-1948e8bc13e0",
   "metadata": {},
   "outputs": [],
   "source": []
  },
  {
   "cell_type": "code",
   "execution_count": null,
   "id": "ea5e8b7b-1fdb-435d-8192-4732d0e0070e",
   "metadata": {},
   "outputs": [],
   "source": []
  }
 ],
 "metadata": {
  "kernelspec": {
   "display_name": "Python 3.8.8 (myenv)",
   "language": "python",
   "name": "myenv"
  },
  "language_info": {
   "codemirror_mode": {
    "name": "ipython",
    "version": 3
   },
   "file_extension": ".py",
   "mimetype": "text/x-python",
   "name": "python",
   "nbconvert_exporter": "python",
   "pygments_lexer": "ipython3",
   "version": "3.11.7"
  }
 },
 "nbformat": 4,
 "nbformat_minor": 5
}
