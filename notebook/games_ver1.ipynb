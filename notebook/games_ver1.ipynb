{
 "cells": [
  {
   "cell_type": "markdown",
   "id": "bd5ee825-153a-4303-8698-c5952b03f23e",
   "metadata": {},
   "source": [
    "# Analysis of video game sales, by Deborah Thomas."
   ]
  },
  {
   "cell_type": "markdown",
   "id": "134ea50c-4837-4d24-ac25-807305a16330",
   "metadata": {},
   "source": [
    "<div style=\"background-color: rgb(255, 176, 155); padding: 10px; border-radius: 5px;\">\n",
    "    <h2>Introduction</h2>\n",
    "</div>"
   ]
  },
  {
   "cell_type": "markdown",
   "id": "4a85b06d-a528-44ea-833a-2999c9844fbc",
   "metadata": {},
   "source": [
    "#### Analysis of historic video game sales, from 1980-2016, from the (fictitional) online store called \"Ice\". This dataset includes sales from these three regions:\n",
    "- North America\n",
    "- Europe\n",
    "- Japan\n",
    "#### I will be analyzing sales, from these three regions, along with the following, in order to gain an understanding as to which video games will be successful:\n",
    "- Video game platforms\n",
    "- Year of release\n",
    "- Video game genres\n",
    "- Critics' scores\n",
    "- Users' scores\n",
    "- ESRB's ratings (Entertainment Software Rating Board)"
   ]
  },
  {
   "cell_type": "markdown",
   "id": "34cc51a5-86bf-48ff-bc60-b98d34e537bb",
   "metadata": {},
   "source": [
    "<div style=\"background-color: rgb(255, 176, 155); padding: 10px; border-radius: 5px;\">\n",
    "    <h2>Import libraries, and read in the dataset</h2>\n",
    "</div>"
   ]
  },
  {
   "cell_type": "code",
   "execution_count": 6,
   "id": "fa19b676-e0d5-4fb6-9faa-16e4ca36a997",
   "metadata": {},
   "outputs": [],
   "source": [
    "import pandas as pd\n",
    "import numpy as np\n",
    "\n",
    "import random\n",
    "\n",
    "from IPython.display import Image"
   ]
  },
  {
   "cell_type": "code",
   "execution_count": 8,
   "id": "d6e04be8-a5da-4da1-a476-317bc2255afa",
   "metadata": {},
   "outputs": [
    {
     "data": {
      "text/html": [
       "<img src=\"../girl_videoGame_dog_ice.webp\" width=\"300\" height=\"300\"/>"
      ],
      "text/plain": [
       "<IPython.core.display.Image object>"
      ]
     },
     "execution_count": 8,
     "metadata": {},
     "output_type": "execute_result"
    }
   ],
   "source": [
    "Image(url='../girl_videoGame_dog_ice.webp', width=300, height=300)"
   ]
  },
  {
   "cell_type": "code",
   "execution_count": 10,
   "id": "026efd21-44f1-4f6d-9a55-0c00db29d666",
   "metadata": {},
   "outputs": [
    {
     "data": {
      "text/html": [
       "<div>\n",
       "<style scoped>\n",
       "    .dataframe tbody tr th:only-of-type {\n",
       "        vertical-align: middle;\n",
       "    }\n",
       "\n",
       "    .dataframe tbody tr th {\n",
       "        vertical-align: top;\n",
       "    }\n",
       "\n",
       "    .dataframe thead th {\n",
       "        text-align: right;\n",
       "    }\n",
       "</style>\n",
       "<table border=\"1\" class=\"dataframe\">\n",
       "  <thead>\n",
       "    <tr style=\"text-align: right;\">\n",
       "      <th></th>\n",
       "      <th>Name</th>\n",
       "      <th>Platform</th>\n",
       "      <th>Year_of_Release</th>\n",
       "      <th>Genre</th>\n",
       "      <th>NA_sales</th>\n",
       "      <th>EU_sales</th>\n",
       "      <th>JP_sales</th>\n",
       "      <th>Other_sales</th>\n",
       "      <th>Critic_Score</th>\n",
       "      <th>User_Score</th>\n",
       "      <th>Rating</th>\n",
       "    </tr>\n",
       "  </thead>\n",
       "  <tbody>\n",
       "    <tr>\n",
       "      <th>0</th>\n",
       "      <td>Wii Sports</td>\n",
       "      <td>Wii</td>\n",
       "      <td>2006.0</td>\n",
       "      <td>Sports</td>\n",
       "      <td>41.36</td>\n",
       "      <td>28.96</td>\n",
       "      <td>3.77</td>\n",
       "      <td>8.45</td>\n",
       "      <td>76.0</td>\n",
       "      <td>8</td>\n",
       "      <td>E</td>\n",
       "    </tr>\n",
       "    <tr>\n",
       "      <th>1</th>\n",
       "      <td>Super Mario Bros.</td>\n",
       "      <td>NES</td>\n",
       "      <td>1985.0</td>\n",
       "      <td>Platform</td>\n",
       "      <td>29.08</td>\n",
       "      <td>3.58</td>\n",
       "      <td>6.81</td>\n",
       "      <td>0.77</td>\n",
       "      <td>NaN</td>\n",
       "      <td>NaN</td>\n",
       "      <td>NaN</td>\n",
       "    </tr>\n",
       "    <tr>\n",
       "      <th>2</th>\n",
       "      <td>Mario Kart Wii</td>\n",
       "      <td>Wii</td>\n",
       "      <td>2008.0</td>\n",
       "      <td>Racing</td>\n",
       "      <td>15.68</td>\n",
       "      <td>12.76</td>\n",
       "      <td>3.79</td>\n",
       "      <td>3.29</td>\n",
       "      <td>82.0</td>\n",
       "      <td>8.3</td>\n",
       "      <td>E</td>\n",
       "    </tr>\n",
       "    <tr>\n",
       "      <th>3</th>\n",
       "      <td>Wii Sports Resort</td>\n",
       "      <td>Wii</td>\n",
       "      <td>2009.0</td>\n",
       "      <td>Sports</td>\n",
       "      <td>15.61</td>\n",
       "      <td>10.93</td>\n",
       "      <td>3.28</td>\n",
       "      <td>2.95</td>\n",
       "      <td>80.0</td>\n",
       "      <td>8</td>\n",
       "      <td>E</td>\n",
       "    </tr>\n",
       "    <tr>\n",
       "      <th>4</th>\n",
       "      <td>Pokemon Red/Pokemon Blue</td>\n",
       "      <td>GB</td>\n",
       "      <td>1996.0</td>\n",
       "      <td>Role-Playing</td>\n",
       "      <td>11.27</td>\n",
       "      <td>8.89</td>\n",
       "      <td>10.22</td>\n",
       "      <td>1.00</td>\n",
       "      <td>NaN</td>\n",
       "      <td>NaN</td>\n",
       "      <td>NaN</td>\n",
       "    </tr>\n",
       "  </tbody>\n",
       "</table>\n",
       "</div>"
      ],
      "text/plain": [
       "                       Name Platform  Year_of_Release         Genre  NA_sales  \\\n",
       "0                Wii Sports      Wii           2006.0        Sports     41.36   \n",
       "1         Super Mario Bros.      NES           1985.0      Platform     29.08   \n",
       "2            Mario Kart Wii      Wii           2008.0        Racing     15.68   \n",
       "3         Wii Sports Resort      Wii           2009.0        Sports     15.61   \n",
       "4  Pokemon Red/Pokemon Blue       GB           1996.0  Role-Playing     11.27   \n",
       "\n",
       "   EU_sales  JP_sales  Other_sales  Critic_Score User_Score Rating  \n",
       "0     28.96      3.77         8.45          76.0          8      E  \n",
       "1      3.58      6.81         0.77           NaN        NaN    NaN  \n",
       "2     12.76      3.79         3.29          82.0        8.3      E  \n",
       "3     10.93      3.28         2.95          80.0          8      E  \n",
       "4      8.89     10.22         1.00           NaN        NaN    NaN  "
      ]
     },
     "metadata": {},
     "output_type": "display_data"
    }
   ],
   "source": [
    "games = pd.read_csv('../games.csv')\n",
    "display(games.head(5))"
   ]
  },
  {
   "cell_type": "markdown",
   "id": "33040105-7af5-402f-ad99-9e01ff8bfb45",
   "metadata": {},
   "source": [
    "<div style=\"background-color: rgb(255, 176, 155); padding: 10px; border-radius: 5px;\">\n",
    "    <h2>Basic summary of the data</h2>\n",
    "</div>"
   ]
  },
  {
   "cell_type": "code",
   "execution_count": 13,
   "id": "fb21aeb6-c1bc-4e06-a752-b5e2f4742c4f",
   "metadata": {},
   "outputs": [
    {
     "name": "stdout",
     "output_type": "stream",
     "text": [
      "This dataset has 11 columns, and 16715 rows.\n"
     ]
    }
   ],
   "source": [
    "print(\"This dataset has \" + str(games.shape[1]) + \" columns, and \" + str(games.shape[0]) + \" rows.\")"
   ]
  },
  {
   "cell_type": "code",
   "execution_count": 15,
   "id": "27c7015c-53b1-41d7-875c-33d37d5915df",
   "metadata": {},
   "outputs": [
    {
     "data": {
      "text/html": [
       "<div>\n",
       "<style scoped>\n",
       "    .dataframe tbody tr th:only-of-type {\n",
       "        vertical-align: middle;\n",
       "    }\n",
       "\n",
       "    .dataframe tbody tr th {\n",
       "        vertical-align: top;\n",
       "    }\n",
       "\n",
       "    .dataframe thead th {\n",
       "        text-align: right;\n",
       "    }\n",
       "</style>\n",
       "<table border=\"1\" class=\"dataframe\">\n",
       "  <thead>\n",
       "    <tr style=\"text-align: right;\">\n",
       "      <th></th>\n",
       "      <th>Year_of_Release</th>\n",
       "      <th>NA_sales</th>\n",
       "      <th>EU_sales</th>\n",
       "      <th>JP_sales</th>\n",
       "      <th>Other_sales</th>\n",
       "      <th>Critic_Score</th>\n",
       "    </tr>\n",
       "  </thead>\n",
       "  <tbody>\n",
       "    <tr>\n",
       "      <th>count</th>\n",
       "      <td>16446.000000</td>\n",
       "      <td>16715.000000</td>\n",
       "      <td>16715.000000</td>\n",
       "      <td>16715.000000</td>\n",
       "      <td>16715.000000</td>\n",
       "      <td>8137.000000</td>\n",
       "    </tr>\n",
       "    <tr>\n",
       "      <th>mean</th>\n",
       "      <td>2006.484616</td>\n",
       "      <td>0.263377</td>\n",
       "      <td>0.145060</td>\n",
       "      <td>0.077617</td>\n",
       "      <td>0.047342</td>\n",
       "      <td>68.967679</td>\n",
       "    </tr>\n",
       "    <tr>\n",
       "      <th>std</th>\n",
       "      <td>5.877050</td>\n",
       "      <td>0.813604</td>\n",
       "      <td>0.503339</td>\n",
       "      <td>0.308853</td>\n",
       "      <td>0.186731</td>\n",
       "      <td>13.938165</td>\n",
       "    </tr>\n",
       "    <tr>\n",
       "      <th>min</th>\n",
       "      <td>1980.000000</td>\n",
       "      <td>0.000000</td>\n",
       "      <td>0.000000</td>\n",
       "      <td>0.000000</td>\n",
       "      <td>0.000000</td>\n",
       "      <td>13.000000</td>\n",
       "    </tr>\n",
       "    <tr>\n",
       "      <th>25%</th>\n",
       "      <td>2003.000000</td>\n",
       "      <td>0.000000</td>\n",
       "      <td>0.000000</td>\n",
       "      <td>0.000000</td>\n",
       "      <td>0.000000</td>\n",
       "      <td>60.000000</td>\n",
       "    </tr>\n",
       "    <tr>\n",
       "      <th>50%</th>\n",
       "      <td>2007.000000</td>\n",
       "      <td>0.080000</td>\n",
       "      <td>0.020000</td>\n",
       "      <td>0.000000</td>\n",
       "      <td>0.010000</td>\n",
       "      <td>71.000000</td>\n",
       "    </tr>\n",
       "    <tr>\n",
       "      <th>75%</th>\n",
       "      <td>2010.000000</td>\n",
       "      <td>0.240000</td>\n",
       "      <td>0.110000</td>\n",
       "      <td>0.040000</td>\n",
       "      <td>0.030000</td>\n",
       "      <td>79.000000</td>\n",
       "    </tr>\n",
       "    <tr>\n",
       "      <th>max</th>\n",
       "      <td>2016.000000</td>\n",
       "      <td>41.360000</td>\n",
       "      <td>28.960000</td>\n",
       "      <td>10.220000</td>\n",
       "      <td>10.570000</td>\n",
       "      <td>98.000000</td>\n",
       "    </tr>\n",
       "  </tbody>\n",
       "</table>\n",
       "</div>"
      ],
      "text/plain": [
       "       Year_of_Release      NA_sales      EU_sales      JP_sales  \\\n",
       "count     16446.000000  16715.000000  16715.000000  16715.000000   \n",
       "mean       2006.484616      0.263377      0.145060      0.077617   \n",
       "std           5.877050      0.813604      0.503339      0.308853   \n",
       "min        1980.000000      0.000000      0.000000      0.000000   \n",
       "25%        2003.000000      0.000000      0.000000      0.000000   \n",
       "50%        2007.000000      0.080000      0.020000      0.000000   \n",
       "75%        2010.000000      0.240000      0.110000      0.040000   \n",
       "max        2016.000000     41.360000     28.960000     10.220000   \n",
       "\n",
       "        Other_sales  Critic_Score  \n",
       "count  16715.000000   8137.000000  \n",
       "mean       0.047342     68.967679  \n",
       "std        0.186731     13.938165  \n",
       "min        0.000000     13.000000  \n",
       "25%        0.000000     60.000000  \n",
       "50%        0.010000     71.000000  \n",
       "75%        0.030000     79.000000  \n",
       "max       10.570000     98.000000  "
      ]
     },
     "execution_count": 15,
     "metadata": {},
     "output_type": "execute_result"
    }
   ],
   "source": [
    "games.describe()"
   ]
  },
  {
   "cell_type": "markdown",
   "id": "f2e83007-4806-464a-bf8d-24aae3ef5404",
   "metadata": {},
   "source": [
    "#### North America had the most sales."
   ]
  },
  {
   "cell_type": "code",
   "execution_count": 18,
   "id": "6fbe0297-094d-4b0d-9abc-62ef8a5b2f93",
   "metadata": {},
   "outputs": [
    {
     "name": "stdout",
     "output_type": "stream",
     "text": [
      "<class 'pandas.core.frame.DataFrame'>\n",
      "RangeIndex: 16715 entries, 0 to 16714\n",
      "Data columns (total 11 columns):\n",
      " #   Column           Non-Null Count  Dtype  \n",
      "---  ------           --------------  -----  \n",
      " 0   Name             16713 non-null  object \n",
      " 1   Platform         16715 non-null  object \n",
      " 2   Year_of_Release  16446 non-null  float64\n",
      " 3   Genre            16713 non-null  object \n",
      " 4   NA_sales         16715 non-null  float64\n",
      " 5   EU_sales         16715 non-null  float64\n",
      " 6   JP_sales         16715 non-null  float64\n",
      " 7   Other_sales      16715 non-null  float64\n",
      " 8   Critic_Score     8137 non-null   float64\n",
      " 9   User_Score       10014 non-null  object \n",
      " 10  Rating           9949 non-null   object \n",
      "dtypes: float64(6), object(5)\n",
      "memory usage: 1.4+ MB\n"
     ]
    }
   ],
   "source": [
    "games.info()"
   ]
  },
  {
   "cell_type": "code",
   "execution_count": 20,
   "id": "90646b8d-3d9f-4852-9d3e-c3c38cc0591e",
   "metadata": {},
   "outputs": [
    {
     "data": {
      "text/plain": [
       "98.0"
      ]
     },
     "execution_count": 20,
     "metadata": {},
     "output_type": "execute_result"
    }
   ],
   "source": [
    "games.Critic_Score.max()"
   ]
  },
  {
   "cell_type": "code",
   "execution_count": 22,
   "id": "be263e60-8390-4e45-af43-ea6437c054e4",
   "metadata": {},
   "outputs": [
    {
     "data": {
      "text/plain": [
       "User_Score\n",
       "tbd    2424\n",
       "7.8     324\n",
       "8       290\n",
       "8.2     282\n",
       "8.3     254\n",
       "       ... \n",
       "1.1       2\n",
       "1.9       2\n",
       "9.6       2\n",
       "0         1\n",
       "9.7       1\n",
       "Name: count, Length: 96, dtype: int64"
      ]
     },
     "execution_count": 22,
     "metadata": {},
     "output_type": "execute_result"
    }
   ],
   "source": [
    "games.User_Score.value_counts()"
   ]
  },
  {
   "cell_type": "markdown",
   "id": "7b88946b-b57d-40e2-9ed1-9fbf5d386e14",
   "metadata": {},
   "source": [
    "#### A quick study of the data shows:\n",
    "- North America had the highest video game sales overall.\n",
    "    \n",
    "- Column names need to be lowercase.\n",
    "\n",
    "- 'Year_of_Release' column should be renamed to 'year', to shorten the gap between the 'Platform' column.\n",
    "\n",
    "- 'Year_of_Release', and 'Critic_Score' should not have decimals. These datatypes will need to change to int.\n",
    "- 'User_Score' appears to only go to 10, so this can stay as a decimal. But, the datatype will need to change to float.\n",
    "- The 'Rating' column will need to change to the 'category' datatype.\n",
    "\n",
    "- These columns have NaN values and / or missing data: Name, 'Year_of_Release', 'Genre', 'Critic_Score', 'User_Score', 'Rating'.\n",
    "- Luckily, there is no data missing from the sales columns: 'NA_sales', 'EU_sales', 'JP_sales', 'Other_sales'. But I will be changing the names to 'sales_na', 'sales_eu', 'sales_jp', 'sales_other', so the word 'sales' reads first."
   ]
  },
  {
   "cell_type": "markdown",
   "id": "320233c1-8370-4def-874a-c96c881c6075",
   "metadata": {},
   "source": [
    "<div style=\"background-color: rgb(255, 176, 155); padding: 10px; border-radius: 5px;\">\n",
    "    <h2>Clean the data</h2>\n",
    "</div>"
   ]
  },
  {
   "cell_type": "code",
   "execution_count": 26,
   "id": "b635ee72-6bc5-4784-bd9e-1dd3a38966b3",
   "metadata": {},
   "outputs": [
    {
     "data": {
      "text/html": [
       "<img src=\"../brooms.jpeg\" width=\"300\" height=\"300\"/>"
      ],
      "text/plain": [
       "<IPython.core.display.Image object>"
      ]
     },
     "execution_count": 26,
     "metadata": {},
     "output_type": "execute_result"
    }
   ],
   "source": [
    "Image(url='../brooms.jpeg', width=300, height=300)"
   ]
  },
  {
   "cell_type": "markdown",
   "id": "2500f8d1-946f-4745-b346-35a349c382c5",
   "metadata": {},
   "source": [
    "### Rename the column names to lowercase."
   ]
  },
  {
   "cell_type": "code",
   "execution_count": 29,
   "id": "4fa6d909-a24a-4c52-9622-f0fa9f206f1c",
   "metadata": {},
   "outputs": [
    {
     "data": {
      "text/html": [
       "<div>\n",
       "<style scoped>\n",
       "    .dataframe tbody tr th:only-of-type {\n",
       "        vertical-align: middle;\n",
       "    }\n",
       "\n",
       "    .dataframe tbody tr th {\n",
       "        vertical-align: top;\n",
       "    }\n",
       "\n",
       "    .dataframe thead th {\n",
       "        text-align: right;\n",
       "    }\n",
       "</style>\n",
       "<table border=\"1\" class=\"dataframe\">\n",
       "  <thead>\n",
       "    <tr style=\"text-align: right;\">\n",
       "      <th></th>\n",
       "      <th>name</th>\n",
       "      <th>platform</th>\n",
       "      <th>year</th>\n",
       "      <th>genre</th>\n",
       "      <th>sales_na</th>\n",
       "      <th>sales_eu</th>\n",
       "      <th>sales_jp</th>\n",
       "      <th>sales_other</th>\n",
       "      <th>critic_score</th>\n",
       "      <th>user_score</th>\n",
       "      <th>rating</th>\n",
       "    </tr>\n",
       "  </thead>\n",
       "  <tbody>\n",
       "    <tr>\n",
       "      <th>0</th>\n",
       "      <td>Wii Sports</td>\n",
       "      <td>Wii</td>\n",
       "      <td>2006.0</td>\n",
       "      <td>Sports</td>\n",
       "      <td>41.36</td>\n",
       "      <td>28.96</td>\n",
       "      <td>3.77</td>\n",
       "      <td>8.45</td>\n",
       "      <td>76.0</td>\n",
       "      <td>8</td>\n",
       "      <td>E</td>\n",
       "    </tr>\n",
       "    <tr>\n",
       "      <th>1</th>\n",
       "      <td>Super Mario Bros.</td>\n",
       "      <td>NES</td>\n",
       "      <td>1985.0</td>\n",
       "      <td>Platform</td>\n",
       "      <td>29.08</td>\n",
       "      <td>3.58</td>\n",
       "      <td>6.81</td>\n",
       "      <td>0.77</td>\n",
       "      <td>NaN</td>\n",
       "      <td>NaN</td>\n",
       "      <td>NaN</td>\n",
       "    </tr>\n",
       "    <tr>\n",
       "      <th>2</th>\n",
       "      <td>Mario Kart Wii</td>\n",
       "      <td>Wii</td>\n",
       "      <td>2008.0</td>\n",
       "      <td>Racing</td>\n",
       "      <td>15.68</td>\n",
       "      <td>12.76</td>\n",
       "      <td>3.79</td>\n",
       "      <td>3.29</td>\n",
       "      <td>82.0</td>\n",
       "      <td>8.3</td>\n",
       "      <td>E</td>\n",
       "    </tr>\n",
       "  </tbody>\n",
       "</table>\n",
       "</div>"
      ],
      "text/plain": [
       "                name platform    year     genre  sales_na  sales_eu  sales_jp  \\\n",
       "0         Wii Sports      Wii  2006.0    Sports     41.36     28.96      3.77   \n",
       "1  Super Mario Bros.      NES  1985.0  Platform     29.08      3.58      6.81   \n",
       "2     Mario Kart Wii      Wii  2008.0    Racing     15.68     12.76      3.79   \n",
       "\n",
       "   sales_other  critic_score user_score rating  \n",
       "0         8.45          76.0          8      E  \n",
       "1         0.77           NaN        NaN    NaN  \n",
       "2         3.29          82.0        8.3      E  "
      ]
     },
     "metadata": {},
     "output_type": "display_data"
    }
   ],
   "source": [
    "# New column names\n",
    "new_columns = ['name', 'platform', 'year', 'genre', 'sales_na', 'sales_eu', 'sales_jp', 'sales_other', 'critic_score', 'user_score', 'rating']\n",
    "\n",
    "# Assign the new column names to the DataFrame\n",
    "games.columns = new_columns\n",
    "\n",
    "#Display dataframe with new lowercase names\n",
    "display(games.head(3))"
   ]
  },
  {
   "cell_type": "markdown",
   "id": "c431d1a0-6970-4c5b-82d6-834f567f313f",
   "metadata": {},
   "source": [
    "## Clean 'year' column"
   ]
  },
  {
   "cell_type": "code",
   "execution_count": 32,
   "id": "6afcc56f-6088-49c4-ad0b-52f581217890",
   "metadata": {
    "scrolled": true
   },
   "outputs": [
    {
     "name": "stdout",
     "output_type": "stream",
     "text": [
      "<class 'pandas.core.frame.DataFrame'>\n",
      "RangeIndex: 16715 entries, 0 to 16714\n",
      "Data columns (total 11 columns):\n",
      " #   Column        Non-Null Count  Dtype  \n",
      "---  ------        --------------  -----  \n",
      " 0   name          16713 non-null  object \n",
      " 1   platform      16715 non-null  object \n",
      " 2   year          16446 non-null  float64\n",
      " 3   genre         16713 non-null  object \n",
      " 4   sales_na      16715 non-null  float64\n",
      " 5   sales_eu      16715 non-null  float64\n",
      " 6   sales_jp      16715 non-null  float64\n",
      " 7   sales_other   16715 non-null  float64\n",
      " 8   critic_score  8137 non-null   float64\n",
      " 9   user_score    10014 non-null  object \n",
      " 10  rating        9949 non-null   object \n",
      "dtypes: float64(6), object(5)\n",
      "memory usage: 1.4+ MB\n"
     ]
    }
   ],
   "source": [
    "games.info()"
   ]
  },
  {
   "cell_type": "markdown",
   "id": "ef911fde-9eaf-423d-afc8-5a894d02b2f6",
   "metadata": {},
   "source": [
    "#### There are 269 NaN values in the 'year' column."
   ]
  },
  {
   "cell_type": "markdown",
   "id": "b0d5e95f-697f-414e-8a67-75eb6480acbd",
   "metadata": {},
   "source": [
    "#### Some of the names of games have the year, explicitly listed as part of the title of the game. I will find just the titles that have 4 digits in their naming, and use that to impute the data for the NaN values in the 'year' column."
   ]
  },
  {
   "cell_type": "code",
   "execution_count": 36,
   "id": "d7737a1e-049d-4ab8-a8c6-b5c18f5f7323",
   "metadata": {},
   "outputs": [
    {
     "name": "stdout",
     "output_type": "stream",
     "text": [
      "\n",
      "Games where 'name' contains a 4-digit year and 'year' column is NaN:\n",
      "                                    name  year extracted_year\n",
      "183                      Madden NFL 2004   NaN           2004\n",
      "377                     FIFA Soccer 2004   NaN           2004\n",
      "475           wwe Smackdown vs. Raw 2006   NaN           2006\n",
      "1650                 NASCAR Thunder 2003   NaN           2003\n",
      "2572      PES 2009: Pro Evolution Soccer   NaN           2009\n",
      "3486                     Madden NFL 2002   NaN           2002\n",
      "4775                    NFL GameDay 2003   NaN           2003\n",
      "5156                       NBA Live 2003   NaN           2003\n",
      "5336                  Tomb Raider (2013)   NaN           2013\n",
      "5655              All-Star Baseball 2005   NaN           2005\n",
      "5889                       NBA Live 2003   NaN           2003\n",
      "8918              All-Star Baseball 2005   NaN           2005\n",
      "13195                Tour de France 2011   NaN           2011\n",
      "13929                    Sega Rally 2006   NaN           2006\n",
      "15953  PDC World Championship Darts 2008   NaN           2008\n",
      "16079              Football Manager 2007   NaN           2007\n",
      "16373  PDC World Championship Darts 2008   NaN           2008\n"
     ]
    }
   ],
   "source": [
    "# Extract the 4-digit year from the 'name' column\n",
    "year_extracted = games['name'].str.extract(r'(\\d{4})')[0]\n",
    "\n",
    "# Create a boolean mask for rows where 'name' contains a 4-digit year, and 'year' is NaN\n",
    "mask = year_extracted.notna() & games['year'].isna()\n",
    "\n",
    "# Filter the DataFrame using the mask\n",
    "filtered_games = games[mask]\n",
    "\n",
    "# Print the 'name', original 'year', and 'extracted_year' columns for verification\n",
    "print(\"\\nGames where 'name' contains a 4-digit year and 'year' column is NaN:\")\n",
    "filtered_games = filtered_games.assign(extracted_year=year_extracted[mask])\n",
    "print(filtered_games[['name', 'year', 'extracted_year']])"
   ]
  },
  {
   "cell_type": "code",
   "execution_count": 38,
   "id": "6e0d4eeb-a52f-48eb-8449-d40e70631642",
   "metadata": {},
   "outputs": [
    {
     "name": "stdout",
     "output_type": "stream",
     "text": [
      "16695       NaN\n",
      "16696       NaN\n",
      "16697    3000.0\n",
      "16698       NaN\n",
      "16699       NaN\n",
      "16700       NaN\n",
      "16701       NaN\n",
      "16702       NaN\n",
      "16703       NaN\n",
      "16704       NaN\n",
      "16705       NaN\n",
      "16706       NaN\n",
      "16707       NaN\n",
      "16708       NaN\n",
      "16709    1000.0\n",
      "16710       NaN\n",
      "16711    2007.0\n",
      "16712       NaN\n",
      "16713       NaN\n",
      "16714    2016.0\n",
      "Name: 0, dtype: float64\n"
     ]
    }
   ],
   "source": [
    "# Extract the 4-digit year from the 'name' column\n",
    "year_extracted = games['name'].str.extract(r'(\\d{4})')[0]\n",
    "\n",
    "# Convert the extracted years to integers\n",
    "year_extracted = pd.to_numeric(year_extracted, errors='coerce')\n",
    "\n",
    "# This will print 'NaN' for the game 'name' that did not have a 4-digit number as part of their naming.\n",
    "print(year_extracted.tail(20))"
   ]
  },
  {
   "cell_type": "markdown",
   "id": "cdd025f4-dba2-470d-891b-5ba32c87d168",
   "metadata": {},
   "source": [
    "#### I can see a 4-digit number higher than 2016, so I will have to only extract digits less than or equal to 2016."
   ]
  },
  {
   "cell_type": "code",
   "execution_count": 41,
   "id": "d04654e5-3916-4b51-95ed-103c58e521d4",
   "metadata": {},
   "outputs": [],
   "source": [
    "# Create a boolean mask for rows where 'year' is NaN and extracted year <= 2016\n",
    "mask = games['year'].isna() & year_extracted.notna() & (year_extracted <= 2016)"
   ]
  },
  {
   "cell_type": "code",
   "execution_count": 61,
   "id": "03027568-1198-4524-97b1-b98e7859d19e",
   "metadata": {},
   "outputs": [
    {
     "name": "stdout",
     "output_type": "stream",
     "text": [
      "\n",
      "Updated DataFrame with 'year' column filled from extracted 'year' (only for <= 2016):\n"
     ]
    },
    {
     "data": {
      "text/html": [
       "<div>\n",
       "<style scoped>\n",
       "    .dataframe tbody tr th:only-of-type {\n",
       "        vertical-align: middle;\n",
       "    }\n",
       "\n",
       "    .dataframe tbody tr th {\n",
       "        vertical-align: top;\n",
       "    }\n",
       "\n",
       "    .dataframe thead th {\n",
       "        text-align: right;\n",
       "    }\n",
       "</style>\n",
       "<table border=\"1\" class=\"dataframe\">\n",
       "  <thead>\n",
       "    <tr style=\"text-align: right;\">\n",
       "      <th></th>\n",
       "      <th>name</th>\n",
       "      <th>platform</th>\n",
       "      <th>year</th>\n",
       "      <th>genre</th>\n",
       "      <th>sales_na</th>\n",
       "      <th>sales_eu</th>\n",
       "      <th>sales_jp</th>\n",
       "      <th>sales_other</th>\n",
       "      <th>critic_score</th>\n",
       "      <th>user_score</th>\n",
       "      <th>rating</th>\n",
       "    </tr>\n",
       "  </thead>\n",
       "  <tbody>\n",
       "    <tr>\n",
       "      <th>16685</th>\n",
       "      <td>Help Wanted: 50 Wacky Jobs (jp sales)</td>\n",
       "      <td>Wii</td>\n",
       "      <td>2008.0</td>\n",
       "      <td>Simulation</td>\n",
       "      <td>0.00</td>\n",
       "      <td>0.00</td>\n",
       "      <td>0.01</td>\n",
       "      <td>0.0</td>\n",
       "      <td>NaN</td>\n",
       "      <td>NaN</td>\n",
       "      <td>NaN</td>\n",
       "    </tr>\n",
       "    <tr>\n",
       "      <th>16686</th>\n",
       "      <td>Yattaman Wii: BikkuriDokkiri Machine de Mou Ra...</td>\n",
       "      <td>Wii</td>\n",
       "      <td>2008.0</td>\n",
       "      <td>Racing</td>\n",
       "      <td>0.00</td>\n",
       "      <td>0.00</td>\n",
       "      <td>0.01</td>\n",
       "      <td>0.0</td>\n",
       "      <td>NaN</td>\n",
       "      <td>NaN</td>\n",
       "      <td>NaN</td>\n",
       "    </tr>\n",
       "    <tr>\n",
       "      <th>16687</th>\n",
       "      <td>Neo Angelique Special</td>\n",
       "      <td>PSP</td>\n",
       "      <td>2008.0</td>\n",
       "      <td>Adventure</td>\n",
       "      <td>0.00</td>\n",
       "      <td>0.00</td>\n",
       "      <td>0.01</td>\n",
       "      <td>0.0</td>\n",
       "      <td>NaN</td>\n",
       "      <td>NaN</td>\n",
       "      <td>NaN</td>\n",
       "    </tr>\n",
       "    <tr>\n",
       "      <th>16688</th>\n",
       "      <td>Outdoors Unleashed: Africa 3D</td>\n",
       "      <td>3DS</td>\n",
       "      <td>2011.0</td>\n",
       "      <td>Sports</td>\n",
       "      <td>0.01</td>\n",
       "      <td>0.00</td>\n",
       "      <td>0.00</td>\n",
       "      <td>0.0</td>\n",
       "      <td>NaN</td>\n",
       "      <td>tbd</td>\n",
       "      <td>T</td>\n",
       "    </tr>\n",
       "    <tr>\n",
       "      <th>16689</th>\n",
       "      <td>Real Rode</td>\n",
       "      <td>PS2</td>\n",
       "      <td>2008.0</td>\n",
       "      <td>Adventure</td>\n",
       "      <td>0.00</td>\n",
       "      <td>0.00</td>\n",
       "      <td>0.01</td>\n",
       "      <td>0.0</td>\n",
       "      <td>NaN</td>\n",
       "      <td>NaN</td>\n",
       "      <td>NaN</td>\n",
       "    </tr>\n",
       "    <tr>\n",
       "      <th>16690</th>\n",
       "      <td>Pony Friends 2</td>\n",
       "      <td>PC</td>\n",
       "      <td>2009.0</td>\n",
       "      <td>Simulation</td>\n",
       "      <td>0.00</td>\n",
       "      <td>0.01</td>\n",
       "      <td>0.00</td>\n",
       "      <td>0.0</td>\n",
       "      <td>NaN</td>\n",
       "      <td>NaN</td>\n",
       "      <td>NaN</td>\n",
       "    </tr>\n",
       "    <tr>\n",
       "      <th>16691</th>\n",
       "      <td>Dynasty Warriors: Eiketsuden</td>\n",
       "      <td>PS3</td>\n",
       "      <td>2016.0</td>\n",
       "      <td>Action</td>\n",
       "      <td>0.00</td>\n",
       "      <td>0.00</td>\n",
       "      <td>0.01</td>\n",
       "      <td>0.0</td>\n",
       "      <td>NaN</td>\n",
       "      <td>NaN</td>\n",
       "      <td>NaN</td>\n",
       "    </tr>\n",
       "    <tr>\n",
       "      <th>16692</th>\n",
       "      <td>Metal Gear Solid V: Ground Zeroes</td>\n",
       "      <td>PC</td>\n",
       "      <td>2014.0</td>\n",
       "      <td>Action</td>\n",
       "      <td>0.00</td>\n",
       "      <td>0.01</td>\n",
       "      <td>0.00</td>\n",
       "      <td>0.0</td>\n",
       "      <td>80.0</td>\n",
       "      <td>7.6</td>\n",
       "      <td>M</td>\n",
       "    </tr>\n",
       "    <tr>\n",
       "      <th>16693</th>\n",
       "      <td>PGA European Tour</td>\n",
       "      <td>N64</td>\n",
       "      <td>2000.0</td>\n",
       "      <td>Sports</td>\n",
       "      <td>0.01</td>\n",
       "      <td>0.00</td>\n",
       "      <td>0.00</td>\n",
       "      <td>0.0</td>\n",
       "      <td>NaN</td>\n",
       "      <td>NaN</td>\n",
       "      <td>NaN</td>\n",
       "    </tr>\n",
       "    <tr>\n",
       "      <th>16694</th>\n",
       "      <td>Carmageddon 64</td>\n",
       "      <td>N64</td>\n",
       "      <td>1999.0</td>\n",
       "      <td>Action</td>\n",
       "      <td>0.01</td>\n",
       "      <td>0.00</td>\n",
       "      <td>0.00</td>\n",
       "      <td>0.0</td>\n",
       "      <td>NaN</td>\n",
       "      <td>NaN</td>\n",
       "      <td>NaN</td>\n",
       "    </tr>\n",
       "    <tr>\n",
       "      <th>16695</th>\n",
       "      <td>Planet Monsters</td>\n",
       "      <td>GBA</td>\n",
       "      <td>2001.0</td>\n",
       "      <td>Action</td>\n",
       "      <td>0.01</td>\n",
       "      <td>0.00</td>\n",
       "      <td>0.00</td>\n",
       "      <td>0.0</td>\n",
       "      <td>67.0</td>\n",
       "      <td>tbd</td>\n",
       "      <td>E</td>\n",
       "    </tr>\n",
       "    <tr>\n",
       "      <th>16696</th>\n",
       "      <td>Breach</td>\n",
       "      <td>PC</td>\n",
       "      <td>2011.0</td>\n",
       "      <td>Shooter</td>\n",
       "      <td>0.01</td>\n",
       "      <td>0.00</td>\n",
       "      <td>0.00</td>\n",
       "      <td>0.0</td>\n",
       "      <td>61.0</td>\n",
       "      <td>5.8</td>\n",
       "      <td>T</td>\n",
       "    </tr>\n",
       "    <tr>\n",
       "      <th>16697</th>\n",
       "      <td>Bust-A-Move 3000</td>\n",
       "      <td>GC</td>\n",
       "      <td>2003.0</td>\n",
       "      <td>Puzzle</td>\n",
       "      <td>0.01</td>\n",
       "      <td>0.00</td>\n",
       "      <td>0.00</td>\n",
       "      <td>0.0</td>\n",
       "      <td>53.0</td>\n",
       "      <td>tbd</td>\n",
       "      <td>E</td>\n",
       "    </tr>\n",
       "    <tr>\n",
       "      <th>16698</th>\n",
       "      <td>Mega Brain Boost</td>\n",
       "      <td>DS</td>\n",
       "      <td>2008.0</td>\n",
       "      <td>Puzzle</td>\n",
       "      <td>0.01</td>\n",
       "      <td>0.00</td>\n",
       "      <td>0.00</td>\n",
       "      <td>0.0</td>\n",
       "      <td>48.0</td>\n",
       "      <td>tbd</td>\n",
       "      <td>E</td>\n",
       "    </tr>\n",
       "    <tr>\n",
       "      <th>16699</th>\n",
       "      <td>The Longest 5 Minutes</td>\n",
       "      <td>PSV</td>\n",
       "      <td>2016.0</td>\n",
       "      <td>Action</td>\n",
       "      <td>0.00</td>\n",
       "      <td>0.00</td>\n",
       "      <td>0.01</td>\n",
       "      <td>0.0</td>\n",
       "      <td>NaN</td>\n",
       "      <td>NaN</td>\n",
       "      <td>NaN</td>\n",
       "    </tr>\n",
       "    <tr>\n",
       "      <th>16700</th>\n",
       "      <td>Mezase!! Tsuri Master DS</td>\n",
       "      <td>DS</td>\n",
       "      <td>2009.0</td>\n",
       "      <td>Sports</td>\n",
       "      <td>0.00</td>\n",
       "      <td>0.00</td>\n",
       "      <td>0.01</td>\n",
       "      <td>0.0</td>\n",
       "      <td>NaN</td>\n",
       "      <td>NaN</td>\n",
       "      <td>NaN</td>\n",
       "    </tr>\n",
       "    <tr>\n",
       "      <th>16701</th>\n",
       "      <td>Eiyuu Densetsu: Sora no Kiseki Material Collec...</td>\n",
       "      <td>PSP</td>\n",
       "      <td>2007.0</td>\n",
       "      <td>Role-Playing</td>\n",
       "      <td>0.00</td>\n",
       "      <td>0.00</td>\n",
       "      <td>0.01</td>\n",
       "      <td>0.0</td>\n",
       "      <td>NaN</td>\n",
       "      <td>NaN</td>\n",
       "      <td>NaN</td>\n",
       "    </tr>\n",
       "    <tr>\n",
       "      <th>16702</th>\n",
       "      <td>STORM: Frontline Nation</td>\n",
       "      <td>PC</td>\n",
       "      <td>2011.0</td>\n",
       "      <td>Strategy</td>\n",
       "      <td>0.00</td>\n",
       "      <td>0.01</td>\n",
       "      <td>0.00</td>\n",
       "      <td>0.0</td>\n",
       "      <td>60.0</td>\n",
       "      <td>7.2</td>\n",
       "      <td>E10+</td>\n",
       "    </tr>\n",
       "    <tr>\n",
       "      <th>16703</th>\n",
       "      <td>Strawberry Nauts</td>\n",
       "      <td>PSV</td>\n",
       "      <td>2016.0</td>\n",
       "      <td>Adventure</td>\n",
       "      <td>0.00</td>\n",
       "      <td>0.00</td>\n",
       "      <td>0.01</td>\n",
       "      <td>0.0</td>\n",
       "      <td>NaN</td>\n",
       "      <td>NaN</td>\n",
       "      <td>NaN</td>\n",
       "    </tr>\n",
       "    <tr>\n",
       "      <th>16704</th>\n",
       "      <td>Plushees</td>\n",
       "      <td>DS</td>\n",
       "      <td>2008.0</td>\n",
       "      <td>Simulation</td>\n",
       "      <td>0.01</td>\n",
       "      <td>0.00</td>\n",
       "      <td>0.00</td>\n",
       "      <td>0.0</td>\n",
       "      <td>NaN</td>\n",
       "      <td>tbd</td>\n",
       "      <td>E</td>\n",
       "    </tr>\n",
       "    <tr>\n",
       "      <th>16705</th>\n",
       "      <td>15 Days</td>\n",
       "      <td>PC</td>\n",
       "      <td>2009.0</td>\n",
       "      <td>Adventure</td>\n",
       "      <td>0.00</td>\n",
       "      <td>0.01</td>\n",
       "      <td>0.00</td>\n",
       "      <td>0.0</td>\n",
       "      <td>63.0</td>\n",
       "      <td>5.8</td>\n",
       "      <td>NaN</td>\n",
       "    </tr>\n",
       "    <tr>\n",
       "      <th>16706</th>\n",
       "      <td>Men in Black II: Alien Escape</td>\n",
       "      <td>GC</td>\n",
       "      <td>2003.0</td>\n",
       "      <td>Shooter</td>\n",
       "      <td>0.01</td>\n",
       "      <td>0.00</td>\n",
       "      <td>0.00</td>\n",
       "      <td>0.0</td>\n",
       "      <td>NaN</td>\n",
       "      <td>tbd</td>\n",
       "      <td>T</td>\n",
       "    </tr>\n",
       "    <tr>\n",
       "      <th>16707</th>\n",
       "      <td>Aiyoku no Eustia</td>\n",
       "      <td>PSV</td>\n",
       "      <td>2014.0</td>\n",
       "      <td>Misc</td>\n",
       "      <td>0.00</td>\n",
       "      <td>0.00</td>\n",
       "      <td>0.01</td>\n",
       "      <td>0.0</td>\n",
       "      <td>NaN</td>\n",
       "      <td>NaN</td>\n",
       "      <td>NaN</td>\n",
       "    </tr>\n",
       "    <tr>\n",
       "      <th>16708</th>\n",
       "      <td>Woody Woodpecker in Crazy Castle 5</td>\n",
       "      <td>GBA</td>\n",
       "      <td>2002.0</td>\n",
       "      <td>Platform</td>\n",
       "      <td>0.01</td>\n",
       "      <td>0.00</td>\n",
       "      <td>0.00</td>\n",
       "      <td>0.0</td>\n",
       "      <td>NaN</td>\n",
       "      <td>NaN</td>\n",
       "      <td>NaN</td>\n",
       "    </tr>\n",
       "    <tr>\n",
       "      <th>16709</th>\n",
       "      <td>SCORE International Baja 1000: The Official Game</td>\n",
       "      <td>PS2</td>\n",
       "      <td>2008.0</td>\n",
       "      <td>Racing</td>\n",
       "      <td>0.00</td>\n",
       "      <td>0.00</td>\n",
       "      <td>0.00</td>\n",
       "      <td>0.0</td>\n",
       "      <td>NaN</td>\n",
       "      <td>NaN</td>\n",
       "      <td>NaN</td>\n",
       "    </tr>\n",
       "    <tr>\n",
       "      <th>16710</th>\n",
       "      <td>Samurai Warriors: Sanada Maru</td>\n",
       "      <td>PS3</td>\n",
       "      <td>2016.0</td>\n",
       "      <td>Action</td>\n",
       "      <td>0.00</td>\n",
       "      <td>0.00</td>\n",
       "      <td>0.01</td>\n",
       "      <td>0.0</td>\n",
       "      <td>NaN</td>\n",
       "      <td>NaN</td>\n",
       "      <td>NaN</td>\n",
       "    </tr>\n",
       "    <tr>\n",
       "      <th>16711</th>\n",
       "      <td>LMA Manager 2007</td>\n",
       "      <td>X360</td>\n",
       "      <td>2006.0</td>\n",
       "      <td>Sports</td>\n",
       "      <td>0.00</td>\n",
       "      <td>0.01</td>\n",
       "      <td>0.00</td>\n",
       "      <td>0.0</td>\n",
       "      <td>NaN</td>\n",
       "      <td>NaN</td>\n",
       "      <td>NaN</td>\n",
       "    </tr>\n",
       "    <tr>\n",
       "      <th>16712</th>\n",
       "      <td>Haitaka no Psychedelica</td>\n",
       "      <td>PSV</td>\n",
       "      <td>2016.0</td>\n",
       "      <td>Adventure</td>\n",
       "      <td>0.00</td>\n",
       "      <td>0.00</td>\n",
       "      <td>0.01</td>\n",
       "      <td>0.0</td>\n",
       "      <td>NaN</td>\n",
       "      <td>NaN</td>\n",
       "      <td>NaN</td>\n",
       "    </tr>\n",
       "    <tr>\n",
       "      <th>16713</th>\n",
       "      <td>Spirits &amp; Spells</td>\n",
       "      <td>GBA</td>\n",
       "      <td>2003.0</td>\n",
       "      <td>Platform</td>\n",
       "      <td>0.01</td>\n",
       "      <td>0.00</td>\n",
       "      <td>0.00</td>\n",
       "      <td>0.0</td>\n",
       "      <td>NaN</td>\n",
       "      <td>NaN</td>\n",
       "      <td>NaN</td>\n",
       "    </tr>\n",
       "    <tr>\n",
       "      <th>16714</th>\n",
       "      <td>Winning Post 8 2016</td>\n",
       "      <td>PSV</td>\n",
       "      <td>2016.0</td>\n",
       "      <td>Simulation</td>\n",
       "      <td>0.00</td>\n",
       "      <td>0.00</td>\n",
       "      <td>0.01</td>\n",
       "      <td>0.0</td>\n",
       "      <td>NaN</td>\n",
       "      <td>NaN</td>\n",
       "      <td>NaN</td>\n",
       "    </tr>\n",
       "  </tbody>\n",
       "</table>\n",
       "</div>"
      ],
      "text/plain": [
       "                                                    name platform    year  \\\n",
       "16685              Help Wanted: 50 Wacky Jobs (jp sales)      Wii  2008.0   \n",
       "16686  Yattaman Wii: BikkuriDokkiri Machine de Mou Ra...      Wii  2008.0   \n",
       "16687                              Neo Angelique Special      PSP  2008.0   \n",
       "16688                      Outdoors Unleashed: Africa 3D      3DS  2011.0   \n",
       "16689                                          Real Rode      PS2  2008.0   \n",
       "16690                                     Pony Friends 2       PC  2009.0   \n",
       "16691                       Dynasty Warriors: Eiketsuden      PS3  2016.0   \n",
       "16692                  Metal Gear Solid V: Ground Zeroes       PC  2014.0   \n",
       "16693                                  PGA European Tour      N64  2000.0   \n",
       "16694                                     Carmageddon 64      N64  1999.0   \n",
       "16695                                    Planet Monsters      GBA  2001.0   \n",
       "16696                                             Breach       PC  2011.0   \n",
       "16697                                   Bust-A-Move 3000       GC  2003.0   \n",
       "16698                                   Mega Brain Boost       DS  2008.0   \n",
       "16699                              The Longest 5 Minutes      PSV  2016.0   \n",
       "16700                           Mezase!! Tsuri Master DS       DS  2009.0   \n",
       "16701  Eiyuu Densetsu: Sora no Kiseki Material Collec...      PSP  2007.0   \n",
       "16702                            STORM: Frontline Nation       PC  2011.0   \n",
       "16703                                   Strawberry Nauts      PSV  2016.0   \n",
       "16704                                           Plushees       DS  2008.0   \n",
       "16705                                            15 Days       PC  2009.0   \n",
       "16706                      Men in Black II: Alien Escape       GC  2003.0   \n",
       "16707                                   Aiyoku no Eustia      PSV  2014.0   \n",
       "16708                 Woody Woodpecker in Crazy Castle 5      GBA  2002.0   \n",
       "16709   SCORE International Baja 1000: The Official Game      PS2  2008.0   \n",
       "16710                      Samurai Warriors: Sanada Maru      PS3  2016.0   \n",
       "16711                                   LMA Manager 2007     X360  2006.0   \n",
       "16712                            Haitaka no Psychedelica      PSV  2016.0   \n",
       "16713                                   Spirits & Spells      GBA  2003.0   \n",
       "16714                                Winning Post 8 2016      PSV  2016.0   \n",
       "\n",
       "              genre  sales_na  sales_eu  sales_jp  sales_other  critic_score  \\\n",
       "16685    Simulation      0.00      0.00      0.01          0.0           NaN   \n",
       "16686        Racing      0.00      0.00      0.01          0.0           NaN   \n",
       "16687     Adventure      0.00      0.00      0.01          0.0           NaN   \n",
       "16688        Sports      0.01      0.00      0.00          0.0           NaN   \n",
       "16689     Adventure      0.00      0.00      0.01          0.0           NaN   \n",
       "16690    Simulation      0.00      0.01      0.00          0.0           NaN   \n",
       "16691        Action      0.00      0.00      0.01          0.0           NaN   \n",
       "16692        Action      0.00      0.01      0.00          0.0          80.0   \n",
       "16693        Sports      0.01      0.00      0.00          0.0           NaN   \n",
       "16694        Action      0.01      0.00      0.00          0.0           NaN   \n",
       "16695        Action      0.01      0.00      0.00          0.0          67.0   \n",
       "16696       Shooter      0.01      0.00      0.00          0.0          61.0   \n",
       "16697        Puzzle      0.01      0.00      0.00          0.0          53.0   \n",
       "16698        Puzzle      0.01      0.00      0.00          0.0          48.0   \n",
       "16699        Action      0.00      0.00      0.01          0.0           NaN   \n",
       "16700        Sports      0.00      0.00      0.01          0.0           NaN   \n",
       "16701  Role-Playing      0.00      0.00      0.01          0.0           NaN   \n",
       "16702      Strategy      0.00      0.01      0.00          0.0          60.0   \n",
       "16703     Adventure      0.00      0.00      0.01          0.0           NaN   \n",
       "16704    Simulation      0.01      0.00      0.00          0.0           NaN   \n",
       "16705     Adventure      0.00      0.01      0.00          0.0          63.0   \n",
       "16706       Shooter      0.01      0.00      0.00          0.0           NaN   \n",
       "16707          Misc      0.00      0.00      0.01          0.0           NaN   \n",
       "16708      Platform      0.01      0.00      0.00          0.0           NaN   \n",
       "16709        Racing      0.00      0.00      0.00          0.0           NaN   \n",
       "16710        Action      0.00      0.00      0.01          0.0           NaN   \n",
       "16711        Sports      0.00      0.01      0.00          0.0           NaN   \n",
       "16712     Adventure      0.00      0.00      0.01          0.0           NaN   \n",
       "16713      Platform      0.01      0.00      0.00          0.0           NaN   \n",
       "16714    Simulation      0.00      0.00      0.01          0.0           NaN   \n",
       "\n",
       "      user_score rating  \n",
       "16685        NaN    NaN  \n",
       "16686        NaN    NaN  \n",
       "16687        NaN    NaN  \n",
       "16688        tbd      T  \n",
       "16689        NaN    NaN  \n",
       "16690        NaN    NaN  \n",
       "16691        NaN    NaN  \n",
       "16692        7.6      M  \n",
       "16693        NaN    NaN  \n",
       "16694        NaN    NaN  \n",
       "16695        tbd      E  \n",
       "16696        5.8      T  \n",
       "16697        tbd      E  \n",
       "16698        tbd      E  \n",
       "16699        NaN    NaN  \n",
       "16700        NaN    NaN  \n",
       "16701        NaN    NaN  \n",
       "16702        7.2   E10+  \n",
       "16703        NaN    NaN  \n",
       "16704        tbd      E  \n",
       "16705        5.8    NaN  \n",
       "16706        tbd      T  \n",
       "16707        NaN    NaN  \n",
       "16708        NaN    NaN  \n",
       "16709        NaN    NaN  \n",
       "16710        NaN    NaN  \n",
       "16711        NaN    NaN  \n",
       "16712        NaN    NaN  \n",
       "16713        NaN    NaN  \n",
       "16714        NaN    NaN  "
      ]
     },
     "metadata": {},
     "output_type": "display_data"
    }
   ],
   "source": [
    "# Update the 'year' column for these masked rows with the extracted year\n",
    "games.loc[mask, 'year'] = year_extracted[mask]\n",
    "\n",
    "# Print the updated DataFrame\n",
    "print(\"\\nUpdated DataFrame with 'year' column filled from extracted 'year' (only for <= 2016):\")\n",
    "display(games.tail(30))"
   ]
  },
  {
   "cell_type": "code",
   "execution_count": 45,
   "id": "937fdc5b-7c82-40d4-809f-24ac671c5ed1",
   "metadata": {},
   "outputs": [
    {
     "name": "stdout",
     "output_type": "stream",
     "text": [
      "<class 'pandas.core.frame.DataFrame'>\n",
      "RangeIndex: 16715 entries, 0 to 16714\n",
      "Data columns (total 11 columns):\n",
      " #   Column        Non-Null Count  Dtype  \n",
      "---  ------        --------------  -----  \n",
      " 0   name          16713 non-null  object \n",
      " 1   platform      16715 non-null  object \n",
      " 2   year          16463 non-null  float64\n",
      " 3   genre         16713 non-null  object \n",
      " 4   sales_na      16715 non-null  float64\n",
      " 5   sales_eu      16715 non-null  float64\n",
      " 6   sales_jp      16715 non-null  float64\n",
      " 7   sales_other   16715 non-null  float64\n",
      " 8   critic_score  8137 non-null   float64\n",
      " 9   user_score    10014 non-null  object \n",
      " 10  rating        9949 non-null   object \n",
      "dtypes: float64(6), object(5)\n",
      "memory usage: 1.4+ MB\n"
     ]
    }
   ],
   "source": [
    "games.info()"
   ]
  },
  {
   "cell_type": "markdown",
   "id": "49f5869a-296f-4032-9a53-ca54f8fa68a9",
   "metadata": {},
   "source": [
    "#### There are now only 252 NaN in the 'year' column. That method of imputing cleaned up 17 NaN values."
   ]
  },
  {
   "cell_type": "markdown",
   "id": "0803b2cb-bf54-43a3-8e0b-ce25d349139a",
   "metadata": {},
   "source": [
    "### I will find the most common year, for each game, then impute missing data, by filling in the 'year' with the most common year for each same-name game."
   ]
  },
  {
   "cell_type": "code",
   "execution_count": 49,
   "id": "97cc6f46-1049-48a0-8fe3-34b383b7c7ad",
   "metadata": {},
   "outputs": [
    {
     "name": "stdout",
     "output_type": "stream",
     "text": [
      "Grouped DataFrame with Counts:\n",
      "                                           name    year  count\n",
      "0                                Beyblade Burst  2016.0      1\n",
      "1                             Fire Emblem Fates  2015.0      1\n",
      "2                          Frozen: Olaf's Quest  2013.0      2\n",
      "3                    Haikyu!! Cross Team Match!  2016.0      1\n",
      "4                             Tales of Xillia 2  2012.0      1\n",
      "5                                   '98 Koshien  1998.0      1\n",
      "6                    .hack//G.U. Vol.1//Rebirth  2006.0      1\n",
      "7                  .hack//G.U. Vol.2//Reminisce  2006.0      1\n",
      "8       .hack//G.U. Vol.2//Reminisce (jp sales)  2006.0      1\n",
      "9                 .hack//G.U. Vol.3//Redemption  2007.0      1\n",
      "10                      .hack//Infection Part 1  2002.0      1\n",
      "11                                  .hack//Link  2010.0      1\n",
      "12                       .hack//Mutation Part 2  2002.0      1\n",
      "13                       .hack//Outbreak Part 3  2002.0      1\n",
      "14  .hack//Quarantine Part 4: The Final Chapter  2003.0      1\n",
      "15            .hack: Sekai no Mukou ni + Versus  2012.0      1\n",
      "16                                   007 Racing  2000.0      1\n",
      "17                       007: Quantum of Solace  2008.0      6\n",
      "18                 007: The World is not Enough  2000.0      2\n",
      "19                     007: Tomorrow Never Dies  1999.0      1\n"
     ]
    }
   ],
   "source": [
    "# Group by 'name' and 'year' and count occurrences\n",
    "grouped_name_year = games.groupby(['name', 'year']).size().reset_index(name='count')\n",
    "\n",
    "print(\"Grouped DataFrame with Counts:\")\n",
    "print(grouped_name_year.head(20))"
   ]
  },
  {
   "cell_type": "code",
   "execution_count": 51,
   "id": "564ff85c-90a6-4a74-be16-645d93dd3a26",
   "metadata": {},
   "outputs": [],
   "source": [
    "# Determine the most common year for each game\n",
    "#Apply a function to each 'year' group.\n",
    "#Calculates the mode (most frequent value) of the 'year' values in the 'name' group.\n",
    "#['0'] selects the first mode value if mode() returns multiple values. \n",
    "# Check if the mode calculation returns an empty result. If it does, it assigns np.nan instead. \n",
    "common_year = games.groupby('name')['year'].apply(lambda x: x.mode().iloc[0] if not x.mode().empty else None)"
   ]
  },
  {
   "cell_type": "code",
   "execution_count": 53,
   "id": "593c21eb-cb43-4b05-a778-a0b57b82c04c",
   "metadata": {},
   "outputs": [],
   "source": [
    "#Take the above info, and now fill in the missing values.  \n",
    "#Create a dictionary from the common_year Series\n",
    "common_year_dict = common_year.to_dict()\n",
    "\n",
    "#Use this dictionary to fill in missing 'year' values\n",
    "#If row is found in common_year_dict, it returns the most common year for that game.\n",
    "games['year'] = games.apply(lambda row: common_year_dict.get(row['name'], row['year']) if pd.isna(row['year']) else row['year'], axis=1)"
   ]
  },
  {
   "cell_type": "code",
   "execution_count": 55,
   "id": "64b644db-4887-4bfc-90e5-c548eb31c685",
   "metadata": {},
   "outputs": [
    {
     "name": "stdout",
     "output_type": "stream",
     "text": [
      "<class 'pandas.core.frame.DataFrame'>\n",
      "RangeIndex: 16715 entries, 0 to 16714\n",
      "Data columns (total 11 columns):\n",
      " #   Column        Non-Null Count  Dtype  \n",
      "---  ------        --------------  -----  \n",
      " 0   name          16713 non-null  object \n",
      " 1   platform      16715 non-null  object \n",
      " 2   year          16576 non-null  float64\n",
      " 3   genre         16713 non-null  object \n",
      " 4   sales_na      16715 non-null  float64\n",
      " 5   sales_eu      16715 non-null  float64\n",
      " 6   sales_jp      16715 non-null  float64\n",
      " 7   sales_other   16715 non-null  float64\n",
      " 8   critic_score  8137 non-null   float64\n",
      " 9   user_score    10014 non-null  object \n",
      " 10  rating        9949 non-null   object \n",
      "dtypes: float64(6), object(5)\n",
      "memory usage: 1.4+ MB\n"
     ]
    }
   ],
   "source": [
    "games.info()"
   ]
  },
  {
   "cell_type": "markdown",
   "id": "58cfe149-5cdb-4005-8ea0-55c88830f8db",
   "metadata": {},
   "source": [
    "#### Now there are 139 NaN values in the 'year' column. That method of imputing cleaned up 113 NaN values."
   ]
  },
  {
   "cell_type": "markdown",
   "id": "e5516ff8-4311-4b24-9864-4dc087a84145",
   "metadata": {},
   "source": [
    "## I need to figure out how to impute more data for the 'year' column."
   ]
  },
  {
   "cell_type": "markdown",
   "id": "7343c099-573c-46cc-862c-ca5e5d14306a",
   "metadata": {},
   "source": [
    "#### The ESRB rating will give a clue as to what the year might be.\n",
    "- The \"T\" (Teen) rating was introduced in the year 1994, so any game that has NaN in the 'year' column must be between 1994-2016. \n",
    "- The \"E\" (Everyone) rating was introduced in the year 1998, so any game that has NaN in the 'year' column must be between 1998-2016.\n",
    "- The E10+ rating was not introduced until the year 2005, so any game that has NaN in the 'year' column must be between 2005-2016."
   ]
  },
  {
   "cell_type": "markdown",
   "id": "e896be08-efc4-4fda-8643-4cf3fbf26bc5",
   "metadata": {},
   "source": [
    "### I will iterate through each row of the dataframe, and look for 'rating' have value of \"E10+\", then impute a NaN value in 'year' with a random number from 2005-2016.  I will not do this with \"E\", nor \"T\", as those year ranges are too big, and there is less of a chance that I will impute with the correct year."
   ]
  },
  {
   "cell_type": "code",
   "execution_count": null,
   "id": "36434168-74a7-4e9b-b356-c6f6628b2857",
   "metadata": {},
   "outputs": [],
   "source": []
  },
  {
   "cell_type": "code",
   "execution_count": null,
   "id": "f3589a24-ece6-44c5-94a8-7cd72e8f6c2e",
   "metadata": {},
   "outputs": [],
   "source": []
  },
  {
   "cell_type": "code",
   "execution_count": null,
   "id": "e14ad3b4-b725-4104-9cdf-1994ed7257eb",
   "metadata": {},
   "outputs": [],
   "source": []
  },
  {
   "cell_type": "code",
   "execution_count": null,
   "id": "0a243e3e-8588-4501-a3cb-dec8ae5aa7f2",
   "metadata": {},
   "outputs": [],
   "source": []
  },
  {
   "cell_type": "code",
   "execution_count": null,
   "id": "3b97b8d4-cfc4-4a47-bd60-3d7fe9d98868",
   "metadata": {},
   "outputs": [],
   "source": []
  },
  {
   "cell_type": "markdown",
   "id": "3e8c3bd0-3a15-4363-9712-fda09e0ebda7",
   "metadata": {},
   "source": [
    "#### Also, the gaming platform would give as clue as to what year a game is."
   ]
  },
  {
   "cell_type": "code",
   "execution_count": 162,
   "id": "ce20b88a-f374-4308-a9cf-06a0441294d4",
   "metadata": {},
   "outputs": [
    {
     "data": {
      "text/plain": [
       "platform\n",
       "PS2     2161\n",
       "DS      2151\n",
       "PS3     1331\n",
       "Wii     1320\n",
       "X360    1262\n",
       "PSP     1209\n",
       "PS      1197\n",
       "PC       974\n",
       "XB       824\n",
       "GBA      822\n",
       "GC       556\n",
       "3DS      520\n",
       "PSV      430\n",
       "PS4      392\n",
       "N64      319\n",
       "XOne     247\n",
       "SNES     239\n",
       "SAT      173\n",
       "WiiU     147\n",
       "2600     133\n",
       "NES       98\n",
       "GB        98\n",
       "DC        52\n",
       "GEN       29\n",
       "NG        12\n",
       "SCD        6\n",
       "WS         6\n",
       "3DO        3\n",
       "TG16       2\n",
       "GG         1\n",
       "PCFX       1\n",
       "Name: count, dtype: int64"
      ]
     },
     "execution_count": 162,
     "metadata": {},
     "output_type": "execute_result"
    }
   ],
   "source": [
    "games.platform.value_counts()"
   ]
  },
  {
   "cell_type": "markdown",
   "id": "d211688e-3ea6-4370-8cac-bc6c31dc8e28",
   "metadata": {},
   "source": [
    "### Find the release year of each platform."
   ]
  },
  {
   "cell_type": "markdown",
   "id": "738aa1f1-d7de-4b91-931b-181339446a77",
   "metadata": {},
   "source": [
    "These are the years that the various gaming platforms were released. So, the NaN 'year' values, that match these platforms cannot be earlier than their platform's release date.\n",
    "\n",
    "#### 1977\n",
    "- 2600\n",
    "\n",
    "#### 1983\n",
    "- NES\n",
    "- PC\n",
    "\n",
    "#### 1967\n",
    "- TG16\n",
    "\n",
    "#### 1989\n",
    "- GB\n",
    "\n",
    "#### 1990\n",
    "- GG\n",
    "- SNES\n",
    "\n",
    "#### 1991\n",
    "- SCD\n",
    "\n",
    "#### 1993\n",
    "- 3DO\n",
    "\n",
    "#### 1994\n",
    "- NG\n",
    "- PCFX\n",
    "- PS\n",
    "- SAT\n",
    "\n",
    "#### 1996\n",
    "- N64\n",
    "\n",
    "#### 1999\n",
    "- WS\n",
    "\n",
    "#### 2000\n",
    "- GC\n",
    "- PS2\n",
    "\n",
    "#### 2001\n",
    "- GBA\n",
    "- XB\n",
    "\n",
    "#### 2002\n",
    "- GEN\n",
    "\n",
    "#### 2004\n",
    "- PSP\n",
    "\n",
    "#### 2005\n",
    "- DS\n",
    "\n",
    "#### 2005.\n",
    "- X360\n",
    "\n",
    "#### 2006\n",
    "- PS3\n",
    "- Wii\n",
    "\n",
    "#### 2010\n",
    "- 3DS\n",
    "\n",
    "#### 2011\n",
    "- DC\n",
    "\n",
    "#### 2012\n",
    "- WiiU\n",
    "\n",
    "- PSV\n",
    "\n",
    "#### 2013\n",
    "- PS4\n",
    "- XOne"
   ]
  },
  {
   "cell_type": "markdown",
   "id": "af16f5bf-46bd-4aec-978e-8095d563ea76",
   "metadata": {},
   "source": [
    "### Make a dictionary with those platform values and platform year of release."
   ]
  },
  {
   "cell_type": "code",
   "execution_count": 163,
   "id": "6b77e484-75bb-47af-a92e-59c3490e0620",
   "metadata": {},
   "outputs": [],
   "source": [
    "platform_release_years = {\n",
    "    1967: ['PC'],\n",
    "    1977: ['2600'],\n",
    "    1983: ['NES'],\n",
    "    1989: ['TG16', 'GB'],\n",
    "    1990: ['GG'],\n",
    "    1991: ['SNES', 'SCD'],\n",
    "    1993: ['3DO'],\n",
    "    1994: ['NG', 'PCFX', 'PS', 'SAT'],\n",
    "    1996: ['N64'],\n",
    "    1999: ['WS'],\n",
    "    2000: ['GC', 'PS2'],\n",
    "    2001: ['GBA', 'XB'],\n",
    "    2002: ['GEN'],\n",
    "    2004: ['PSP'],\n",
    "    2005: ['DS', 'X360'],\n",
    "    2006: ['PS3', 'Wii'],\n",
    "    2010: ['3DS'],\n",
    "    2011: ['DC'],\n",
    "    2012: ['WiiU', 'PSV'],\n",
    "    2013: ['PS4', 'XOne']\n",
    "}"
   ]
  },
  {
   "cell_type": "code",
   "execution_count": 164,
   "id": "596dde13-746c-41b1-a752-095674160a72",
   "metadata": {},
   "outputs": [],
   "source": [
    "# Initialize a dictionary to store counts\n",
    "nan_platform_counts = {}"
   ]
  },
  {
   "cell_type": "code",
   "execution_count": 165,
   "id": "b7803963-61a0-4ba3-b819-621f2aa4c688",
   "metadata": {},
   "outputs": [
    {
     "name": "stdout",
     "output_type": "stream",
     "text": [
      "Value counts of games where 'year' is NaN:\n",
      "   platform  count\n",
      "21       DS     22\n",
      "24      Wii     19\n",
      "16      PS2     17\n",
      "1      2600     16\n",
      "23      PS3     11\n",
      "22     X360     10\n",
      "17      GBA      9\n",
      "11       PS      7\n",
      "20      PSP      6\n",
      "18       XB      6\n",
      "25      3DS      5\n",
      "0        PC      4\n",
      "15       GC      4\n",
      "13      N64      1\n",
      "28      PSV      1\n",
      "4        GB      1\n",
      "14       WS      0\n",
      "29      PS4      0\n",
      "27     WiiU      0\n",
      "26       DC      0\n",
      "2       NES      0\n",
      "3      TG16      0\n",
      "5        GG      0\n",
      "6      SNES      0\n",
      "7       SCD      0\n",
      "19      GEN      0\n",
      "8       3DO      0\n",
      "9        NG      0\n",
      "10     PCFX      0\n",
      "12      SAT      0\n",
      "30     XOne      0\n"
     ]
    }
   ],
   "source": [
    "# Iterate through each list of platforms in the dictionary\n",
    "for platforms in platform_release_years.values():\n",
    "    for platform in platforms:\n",
    "        # Filter the games DataFrame for the current platform and where year is NaN\n",
    "        filtered_games = games[(games['platform'] == platform) & (games['year'].isna())]\n",
    "        \n",
    "        # Count occurrences\n",
    "        count = filtered_games['platform'].value_counts().to_dict()\n",
    "        \n",
    "        # Update counts in the nan_platform_counts dictionary\n",
    "        if platform in nan_platform_counts:\n",
    "            nan_platform_counts[platform] += count.get(platform, 0)\n",
    "        else:\n",
    "            nan_platform_counts[platform] = count.get(platform, 0)\n",
    "# Convert the counts dictionary to a DataFrame\n",
    "nan_platform_value_counts = pd.DataFrame(list(nan_platform_counts.items()), columns=['platform', 'count'])\n",
    "\n",
    "# Sort the DataFrame by the 'count' column in descending order\n",
    "nan_platform_value_counts = nan_platform_value_counts.sort_values(by='count', ascending=False)\n",
    "\n",
    "# Display the result\n",
    "print(\"Value counts of games where 'year' is NaN:\")\n",
    "print(nan_platform_value_counts)"
   ]
  },
  {
   "cell_type": "markdown",
   "id": "1e41efb6-9caf-4e0b-99ab-1e8b76c4c6aa",
   "metadata": {},
   "source": [
    "### For years greater or equal to 2004, I will take the year value, from the platform_release_years dictionary, then fill in the NaN values, in the 'year' column of the dataframe, with a random number that is between the year the platform was released to the year 2016, but only if the 'platform' matches the value in the platform_release_years dictionary."
   ]
  },
  {
   "cell_type": "code",
   "execution_count": 171,
   "id": "b32674e9-3be4-40e4-b80a-975a5f79f2d7",
   "metadata": {},
   "outputs": [
    {
     "name": "stdout",
     "output_type": "stream",
     "text": [
      "Updated DataFrame with 'year' column filled for platforms released after 2004:\n"
     ]
    },
    {
     "data": {
      "text/html": [
       "<div>\n",
       "<style scoped>\n",
       "    .dataframe tbody tr th:only-of-type {\n",
       "        vertical-align: middle;\n",
       "    }\n",
       "\n",
       "    .dataframe tbody tr th {\n",
       "        vertical-align: top;\n",
       "    }\n",
       "\n",
       "    .dataframe thead th {\n",
       "        text-align: right;\n",
       "    }\n",
       "</style>\n",
       "<table border=\"1\" class=\"dataframe\">\n",
       "  <thead>\n",
       "    <tr style=\"text-align: right;\">\n",
       "      <th></th>\n",
       "      <th>name</th>\n",
       "      <th>platform</th>\n",
       "      <th>year</th>\n",
       "      <th>genre</th>\n",
       "      <th>sales_na</th>\n",
       "      <th>sales_eu</th>\n",
       "      <th>sales_jp</th>\n",
       "      <th>sales_other</th>\n",
       "      <th>critic_score</th>\n",
       "      <th>user_score</th>\n",
       "      <th>rating</th>\n",
       "    </tr>\n",
       "  </thead>\n",
       "  <tbody>\n",
       "    <tr>\n",
       "      <th>0</th>\n",
       "      <td>Wii Sports</td>\n",
       "      <td>Wii</td>\n",
       "      <td>2006</td>\n",
       "      <td>Sports</td>\n",
       "      <td>41.36</td>\n",
       "      <td>28.96</td>\n",
       "      <td>3.77</td>\n",
       "      <td>8.45</td>\n",
       "      <td>76.0</td>\n",
       "      <td>8</td>\n",
       "      <td>E</td>\n",
       "    </tr>\n",
       "    <tr>\n",
       "      <th>1</th>\n",
       "      <td>Super Mario Bros.</td>\n",
       "      <td>NES</td>\n",
       "      <td>1985</td>\n",
       "      <td>Platform</td>\n",
       "      <td>29.08</td>\n",
       "      <td>3.58</td>\n",
       "      <td>6.81</td>\n",
       "      <td>0.77</td>\n",
       "      <td>NaN</td>\n",
       "      <td>NaN</td>\n",
       "      <td>NaN</td>\n",
       "    </tr>\n",
       "    <tr>\n",
       "      <th>2</th>\n",
       "      <td>Mario Kart Wii</td>\n",
       "      <td>Wii</td>\n",
       "      <td>2008</td>\n",
       "      <td>Racing</td>\n",
       "      <td>15.68</td>\n",
       "      <td>12.76</td>\n",
       "      <td>3.79</td>\n",
       "      <td>3.29</td>\n",
       "      <td>82.0</td>\n",
       "      <td>8.3</td>\n",
       "      <td>E</td>\n",
       "    </tr>\n",
       "    <tr>\n",
       "      <th>3</th>\n",
       "      <td>Wii Sports Resort</td>\n",
       "      <td>Wii</td>\n",
       "      <td>2009</td>\n",
       "      <td>Sports</td>\n",
       "      <td>15.61</td>\n",
       "      <td>10.93</td>\n",
       "      <td>3.28</td>\n",
       "      <td>2.95</td>\n",
       "      <td>80.0</td>\n",
       "      <td>8</td>\n",
       "      <td>E</td>\n",
       "    </tr>\n",
       "    <tr>\n",
       "      <th>4</th>\n",
       "      <td>Pokemon Red/Pokemon Blue</td>\n",
       "      <td>GB</td>\n",
       "      <td>1996</td>\n",
       "      <td>Role-Playing</td>\n",
       "      <td>11.27</td>\n",
       "      <td>8.89</td>\n",
       "      <td>10.22</td>\n",
       "      <td>1.00</td>\n",
       "      <td>NaN</td>\n",
       "      <td>NaN</td>\n",
       "      <td>NaN</td>\n",
       "    </tr>\n",
       "    <tr>\n",
       "      <th>...</th>\n",
       "      <td>...</td>\n",
       "      <td>...</td>\n",
       "      <td>...</td>\n",
       "      <td>...</td>\n",
       "      <td>...</td>\n",
       "      <td>...</td>\n",
       "      <td>...</td>\n",
       "      <td>...</td>\n",
       "      <td>...</td>\n",
       "      <td>...</td>\n",
       "      <td>...</td>\n",
       "    </tr>\n",
       "    <tr>\n",
       "      <th>16710</th>\n",
       "      <td>Samurai Warriors: Sanada Maru</td>\n",
       "      <td>PS3</td>\n",
       "      <td>2016</td>\n",
       "      <td>Action</td>\n",
       "      <td>0.00</td>\n",
       "      <td>0.00</td>\n",
       "      <td>0.01</td>\n",
       "      <td>0.00</td>\n",
       "      <td>NaN</td>\n",
       "      <td>NaN</td>\n",
       "      <td>NaN</td>\n",
       "    </tr>\n",
       "    <tr>\n",
       "      <th>16711</th>\n",
       "      <td>LMA Manager 2007</td>\n",
       "      <td>X360</td>\n",
       "      <td>2006</td>\n",
       "      <td>Sports</td>\n",
       "      <td>0.00</td>\n",
       "      <td>0.01</td>\n",
       "      <td>0.00</td>\n",
       "      <td>0.00</td>\n",
       "      <td>NaN</td>\n",
       "      <td>NaN</td>\n",
       "      <td>NaN</td>\n",
       "    </tr>\n",
       "    <tr>\n",
       "      <th>16712</th>\n",
       "      <td>Haitaka no Psychedelica</td>\n",
       "      <td>PSV</td>\n",
       "      <td>2016</td>\n",
       "      <td>Adventure</td>\n",
       "      <td>0.00</td>\n",
       "      <td>0.00</td>\n",
       "      <td>0.01</td>\n",
       "      <td>0.00</td>\n",
       "      <td>NaN</td>\n",
       "      <td>NaN</td>\n",
       "      <td>NaN</td>\n",
       "    </tr>\n",
       "    <tr>\n",
       "      <th>16713</th>\n",
       "      <td>Spirits &amp; Spells</td>\n",
       "      <td>GBA</td>\n",
       "      <td>2003</td>\n",
       "      <td>Platform</td>\n",
       "      <td>0.01</td>\n",
       "      <td>0.00</td>\n",
       "      <td>0.00</td>\n",
       "      <td>0.00</td>\n",
       "      <td>NaN</td>\n",
       "      <td>NaN</td>\n",
       "      <td>NaN</td>\n",
       "    </tr>\n",
       "    <tr>\n",
       "      <th>16714</th>\n",
       "      <td>Winning Post 8 2016</td>\n",
       "      <td>PSV</td>\n",
       "      <td>2016</td>\n",
       "      <td>Simulation</td>\n",
       "      <td>0.00</td>\n",
       "      <td>0.00</td>\n",
       "      <td>0.01</td>\n",
       "      <td>0.00</td>\n",
       "      <td>NaN</td>\n",
       "      <td>NaN</td>\n",
       "      <td>NaN</td>\n",
       "    </tr>\n",
       "  </tbody>\n",
       "</table>\n",
       "<p>16715 rows × 11 columns</p>\n",
       "</div>"
      ],
      "text/plain": [
       "                                name platform  year         genre  sales_na  \\\n",
       "0                         Wii Sports      Wii  2006        Sports     41.36   \n",
       "1                  Super Mario Bros.      NES  1985      Platform     29.08   \n",
       "2                     Mario Kart Wii      Wii  2008        Racing     15.68   \n",
       "3                  Wii Sports Resort      Wii  2009        Sports     15.61   \n",
       "4           Pokemon Red/Pokemon Blue       GB  1996  Role-Playing     11.27   \n",
       "...                              ...      ...   ...           ...       ...   \n",
       "16710  Samurai Warriors: Sanada Maru      PS3  2016        Action      0.00   \n",
       "16711               LMA Manager 2007     X360  2006        Sports      0.00   \n",
       "16712        Haitaka no Psychedelica      PSV  2016     Adventure      0.00   \n",
       "16713               Spirits & Spells      GBA  2003      Platform      0.01   \n",
       "16714            Winning Post 8 2016      PSV  2016    Simulation      0.00   \n",
       "\n",
       "       sales_eu  sales_jp  sales_other  critic_score user_score rating  \n",
       "0         28.96      3.77         8.45          76.0          8      E  \n",
       "1          3.58      6.81         0.77           NaN        NaN    NaN  \n",
       "2         12.76      3.79         3.29          82.0        8.3      E  \n",
       "3         10.93      3.28         2.95          80.0          8      E  \n",
       "4          8.89     10.22         1.00           NaN        NaN    NaN  \n",
       "...         ...       ...          ...           ...        ...    ...  \n",
       "16710      0.00      0.01         0.00           NaN        NaN    NaN  \n",
       "16711      0.01      0.00         0.00           NaN        NaN    NaN  \n",
       "16712      0.00      0.01         0.00           NaN        NaN    NaN  \n",
       "16713      0.00      0.00         0.00           NaN        NaN    NaN  \n",
       "16714      0.00      0.01         0.00           NaN        NaN    NaN  \n",
       "\n",
       "[16715 rows x 11 columns]"
      ]
     },
     "metadata": {},
     "output_type": "display_data"
    }
   ],
   "source": [
    "# Iterate through the dictionary and update the 'year' column for keys >= 2004\n",
    "for year, platforms in platform_release_years.items():\n",
    "    if year >= 2004:\n",
    "        # Filter the DataFrame where 'platform' matches and 'year' is NaN\n",
    "        mask = games['platform'].isin(platforms) & games['year'].isna()\n",
    "        # Update the 'year' column for the matching rows with a random year between 'year' and 2016\n",
    "        games.loc[mask, 'year'] = games.loc[mask].apply(\n",
    "            lambda row: random.randint(year, 2016), axis=1\n",
    "        )\n",
    "# Display the updated DataFrame\n",
    "print(\"Updated DataFrame with 'year' column filled for platforms released after 2004:\")\n",
    "display(games)"
   ]
  },
  {
   "cell_type": "code",
   "execution_count": 172,
   "id": "2082c631-bc7d-48c8-8be3-166a9bc7e141",
   "metadata": {},
   "outputs": [
    {
     "name": "stdout",
     "output_type": "stream",
     "text": [
      "<class 'pandas.core.frame.DataFrame'>\n",
      "RangeIndex: 16715 entries, 0 to 16714\n",
      "Data columns (total 11 columns):\n",
      " #   Column        Non-Null Count  Dtype  \n",
      "---  ------        --------------  -----  \n",
      " 0   name          16713 non-null  object \n",
      " 1   platform      16715 non-null  object \n",
      " 2   year          16715 non-null  int64  \n",
      " 3   genre         16713 non-null  object \n",
      " 4   sales_na      16715 non-null  float64\n",
      " 5   sales_eu      16715 non-null  float64\n",
      " 6   sales_jp      16715 non-null  float64\n",
      " 7   sales_other   16715 non-null  float64\n",
      " 8   critic_score  8137 non-null   float64\n",
      " 9   user_score    10014 non-null  object \n",
      " 10  rating        9949 non-null   object \n",
      "dtypes: float64(5), int64(1), object(5)\n",
      "memory usage: 1.4+ MB\n"
     ]
    }
   ],
   "source": [
    "games.info()"
   ]
  },
  {
   "cell_type": "markdown",
   "id": "4c8878a9-262e-4c19-a0b8-f0bba1c666e0",
   "metadata": {},
   "source": [
    "#### Now there are only 65 NaN values in the 'year' column. Imputing by this method cleaned up 74 NaN."
   ]
  },
  {
   "cell_type": "markdown",
   "id": "276be371-62a4-4c91-9148-5c47658163c0",
   "metadata": {},
   "source": [
    "#### Fill the remaining 74 NaN values, in the 'year' column, to '0'. Change datatype to int."
   ]
  },
  {
   "cell_type": "code",
   "execution_count": 173,
   "id": "d958fc05-a2b4-42c0-b7de-63b004a8a68a",
   "metadata": {},
   "outputs": [
    {
     "name": "stdout",
     "output_type": "stream",
     "text": [
      "\n",
      "DataFrame after cleaning 'year' column:\n"
     ]
    },
    {
     "data": {
      "text/html": [
       "<div>\n",
       "<style scoped>\n",
       "    .dataframe tbody tr th:only-of-type {\n",
       "        vertical-align: middle;\n",
       "    }\n",
       "\n",
       "    .dataframe tbody tr th {\n",
       "        vertical-align: top;\n",
       "    }\n",
       "\n",
       "    .dataframe thead th {\n",
       "        text-align: right;\n",
       "    }\n",
       "</style>\n",
       "<table border=\"1\" class=\"dataframe\">\n",
       "  <thead>\n",
       "    <tr style=\"text-align: right;\">\n",
       "      <th></th>\n",
       "      <th>name</th>\n",
       "      <th>platform</th>\n",
       "      <th>year</th>\n",
       "      <th>genre</th>\n",
       "      <th>sales_na</th>\n",
       "      <th>sales_eu</th>\n",
       "      <th>sales_jp</th>\n",
       "      <th>sales_other</th>\n",
       "      <th>critic_score</th>\n",
       "      <th>user_score</th>\n",
       "      <th>rating</th>\n",
       "    </tr>\n",
       "  </thead>\n",
       "  <tbody>\n",
       "    <tr>\n",
       "      <th>0</th>\n",
       "      <td>Wii Sports</td>\n",
       "      <td>Wii</td>\n",
       "      <td>2006</td>\n",
       "      <td>Sports</td>\n",
       "      <td>41.36</td>\n",
       "      <td>28.96</td>\n",
       "      <td>3.77</td>\n",
       "      <td>8.45</td>\n",
       "      <td>76.0</td>\n",
       "      <td>8</td>\n",
       "      <td>E</td>\n",
       "    </tr>\n",
       "    <tr>\n",
       "      <th>1</th>\n",
       "      <td>Super Mario Bros.</td>\n",
       "      <td>NES</td>\n",
       "      <td>1985</td>\n",
       "      <td>Platform</td>\n",
       "      <td>29.08</td>\n",
       "      <td>3.58</td>\n",
       "      <td>6.81</td>\n",
       "      <td>0.77</td>\n",
       "      <td>NaN</td>\n",
       "      <td>NaN</td>\n",
       "      <td>NaN</td>\n",
       "    </tr>\n",
       "    <tr>\n",
       "      <th>2</th>\n",
       "      <td>Mario Kart Wii</td>\n",
       "      <td>Wii</td>\n",
       "      <td>2008</td>\n",
       "      <td>Racing</td>\n",
       "      <td>15.68</td>\n",
       "      <td>12.76</td>\n",
       "      <td>3.79</td>\n",
       "      <td>3.29</td>\n",
       "      <td>82.0</td>\n",
       "      <td>8.3</td>\n",
       "      <td>E</td>\n",
       "    </tr>\n",
       "    <tr>\n",
       "      <th>3</th>\n",
       "      <td>Wii Sports Resort</td>\n",
       "      <td>Wii</td>\n",
       "      <td>2009</td>\n",
       "      <td>Sports</td>\n",
       "      <td>15.61</td>\n",
       "      <td>10.93</td>\n",
       "      <td>3.28</td>\n",
       "      <td>2.95</td>\n",
       "      <td>80.0</td>\n",
       "      <td>8</td>\n",
       "      <td>E</td>\n",
       "    </tr>\n",
       "    <tr>\n",
       "      <th>4</th>\n",
       "      <td>Pokemon Red/Pokemon Blue</td>\n",
       "      <td>GB</td>\n",
       "      <td>1996</td>\n",
       "      <td>Role-Playing</td>\n",
       "      <td>11.27</td>\n",
       "      <td>8.89</td>\n",
       "      <td>10.22</td>\n",
       "      <td>1.00</td>\n",
       "      <td>NaN</td>\n",
       "      <td>NaN</td>\n",
       "      <td>NaN</td>\n",
       "    </tr>\n",
       "    <tr>\n",
       "      <th>...</th>\n",
       "      <td>...</td>\n",
       "      <td>...</td>\n",
       "      <td>...</td>\n",
       "      <td>...</td>\n",
       "      <td>...</td>\n",
       "      <td>...</td>\n",
       "      <td>...</td>\n",
       "      <td>...</td>\n",
       "      <td>...</td>\n",
       "      <td>...</td>\n",
       "      <td>...</td>\n",
       "    </tr>\n",
       "    <tr>\n",
       "      <th>16710</th>\n",
       "      <td>Samurai Warriors: Sanada Maru</td>\n",
       "      <td>PS3</td>\n",
       "      <td>2016</td>\n",
       "      <td>Action</td>\n",
       "      <td>0.00</td>\n",
       "      <td>0.00</td>\n",
       "      <td>0.01</td>\n",
       "      <td>0.00</td>\n",
       "      <td>NaN</td>\n",
       "      <td>NaN</td>\n",
       "      <td>NaN</td>\n",
       "    </tr>\n",
       "    <tr>\n",
       "      <th>16711</th>\n",
       "      <td>LMA Manager 2007</td>\n",
       "      <td>X360</td>\n",
       "      <td>2006</td>\n",
       "      <td>Sports</td>\n",
       "      <td>0.00</td>\n",
       "      <td>0.01</td>\n",
       "      <td>0.00</td>\n",
       "      <td>0.00</td>\n",
       "      <td>NaN</td>\n",
       "      <td>NaN</td>\n",
       "      <td>NaN</td>\n",
       "    </tr>\n",
       "    <tr>\n",
       "      <th>16712</th>\n",
       "      <td>Haitaka no Psychedelica</td>\n",
       "      <td>PSV</td>\n",
       "      <td>2016</td>\n",
       "      <td>Adventure</td>\n",
       "      <td>0.00</td>\n",
       "      <td>0.00</td>\n",
       "      <td>0.01</td>\n",
       "      <td>0.00</td>\n",
       "      <td>NaN</td>\n",
       "      <td>NaN</td>\n",
       "      <td>NaN</td>\n",
       "    </tr>\n",
       "    <tr>\n",
       "      <th>16713</th>\n",
       "      <td>Spirits &amp; Spells</td>\n",
       "      <td>GBA</td>\n",
       "      <td>2003</td>\n",
       "      <td>Platform</td>\n",
       "      <td>0.01</td>\n",
       "      <td>0.00</td>\n",
       "      <td>0.00</td>\n",
       "      <td>0.00</td>\n",
       "      <td>NaN</td>\n",
       "      <td>NaN</td>\n",
       "      <td>NaN</td>\n",
       "    </tr>\n",
       "    <tr>\n",
       "      <th>16714</th>\n",
       "      <td>Winning Post 8 2016</td>\n",
       "      <td>PSV</td>\n",
       "      <td>2016</td>\n",
       "      <td>Simulation</td>\n",
       "      <td>0.00</td>\n",
       "      <td>0.00</td>\n",
       "      <td>0.01</td>\n",
       "      <td>0.00</td>\n",
       "      <td>NaN</td>\n",
       "      <td>NaN</td>\n",
       "      <td>NaN</td>\n",
       "    </tr>\n",
       "  </tbody>\n",
       "</table>\n",
       "<p>16715 rows × 11 columns</p>\n",
       "</div>"
      ],
      "text/plain": [
       "                                name platform  year         genre  sales_na  \\\n",
       "0                         Wii Sports      Wii  2006        Sports     41.36   \n",
       "1                  Super Mario Bros.      NES  1985      Platform     29.08   \n",
       "2                     Mario Kart Wii      Wii  2008        Racing     15.68   \n",
       "3                  Wii Sports Resort      Wii  2009        Sports     15.61   \n",
       "4           Pokemon Red/Pokemon Blue       GB  1996  Role-Playing     11.27   \n",
       "...                              ...      ...   ...           ...       ...   \n",
       "16710  Samurai Warriors: Sanada Maru      PS3  2016        Action      0.00   \n",
       "16711               LMA Manager 2007     X360  2006        Sports      0.00   \n",
       "16712        Haitaka no Psychedelica      PSV  2016     Adventure      0.00   \n",
       "16713               Spirits & Spells      GBA  2003      Platform      0.01   \n",
       "16714            Winning Post 8 2016      PSV  2016    Simulation      0.00   \n",
       "\n",
       "       sales_eu  sales_jp  sales_other  critic_score user_score rating  \n",
       "0         28.96      3.77         8.45          76.0          8      E  \n",
       "1          3.58      6.81         0.77           NaN        NaN    NaN  \n",
       "2         12.76      3.79         3.29          82.0        8.3      E  \n",
       "3         10.93      3.28         2.95          80.0          8      E  \n",
       "4          8.89     10.22         1.00           NaN        NaN    NaN  \n",
       "...         ...       ...          ...           ...        ...    ...  \n",
       "16710      0.00      0.01         0.00           NaN        NaN    NaN  \n",
       "16711      0.01      0.00         0.00           NaN        NaN    NaN  \n",
       "16712      0.00      0.01         0.00           NaN        NaN    NaN  \n",
       "16713      0.00      0.00         0.00           NaN        NaN    NaN  \n",
       "16714      0.00      0.01         0.00           NaN        NaN    NaN  \n",
       "\n",
       "[16715 rows x 11 columns]"
      ]
     },
     "metadata": {},
     "output_type": "display_data"
    }
   ],
   "source": [
    "#Fill the remaining 146 NaN values with '0' before changing type from float to int. \n",
    "#Get rid of decimal in year column.\n",
    "games['year'] = games['year'].fillna(0).astype(int)\n",
    "\n",
    "# Verify the changes\n",
    "print(\"\\nDataFrame after cleaning 'year' column:\")\n",
    "display(games)"
   ]
  },
  {
   "cell_type": "code",
   "execution_count": 174,
   "id": "500463aa-ba74-456d-adfb-ecb2f9f81977",
   "metadata": {},
   "outputs": [
    {
     "name": "stdout",
     "output_type": "stream",
     "text": [
      "<class 'pandas.core.frame.DataFrame'>\n",
      "RangeIndex: 16715 entries, 0 to 16714\n",
      "Data columns (total 11 columns):\n",
      " #   Column        Non-Null Count  Dtype  \n",
      "---  ------        --------------  -----  \n",
      " 0   name          16713 non-null  object \n",
      " 1   platform      16715 non-null  object \n",
      " 2   year          16715 non-null  int64  \n",
      " 3   genre         16713 non-null  object \n",
      " 4   sales_na      16715 non-null  float64\n",
      " 5   sales_eu      16715 non-null  float64\n",
      " 6   sales_jp      16715 non-null  float64\n",
      " 7   sales_other   16715 non-null  float64\n",
      " 8   critic_score  8137 non-null   float64\n",
      " 9   user_score    10014 non-null  object \n",
      " 10  rating        9949 non-null   object \n",
      "dtypes: float64(5), int64(1), object(5)\n",
      "memory usage: 1.4+ MB\n"
     ]
    }
   ],
   "source": [
    "games.info()"
   ]
  },
  {
   "cell_type": "markdown",
   "id": "94f23f20-c72b-442c-b0dc-dbf06707a7fa",
   "metadata": {},
   "source": [
    "### 'year' column is clean now."
   ]
  },
  {
   "cell_type": "markdown",
   "id": "9722e82a-16cc-4c11-a47d-bf34c1a519b3",
   "metadata": {},
   "source": [
    "## Clean 'critic_score' column"
   ]
  },
  {
   "cell_type": "markdown",
   "id": "dbb0bd4e-acfa-4ecc-8693-6b67107a7441",
   "metadata": {},
   "source": [
    "#### There are currently 8578 NaN values, which is about half of the rows in the 'critic_score' column."
   ]
  },
  {
   "cell_type": "markdown",
   "id": "2f462d92-43be-40ab-ae0d-df3bd1e99f01",
   "metadata": {},
   "source": [
    "### Impute the data for 'critic_score'"
   ]
  },
  {
   "cell_type": "code",
   "execution_count": null,
   "id": "3684ead5-cd13-41a2-bbd8-4b036583375a",
   "metadata": {},
   "outputs": [],
   "source": [
    "games.critic_score.value_counts()"
   ]
  },
  {
   "cell_type": "code",
   "execution_count": null,
   "id": "59c1d1fe-da82-45da-b1f4-c8b490d91650",
   "metadata": {},
   "outputs": [],
   "source": [
    "# Group by 'genre' and calculate the median critic_score for each group\n",
    "genre_medians_critic = games.groupby('genre')['critic_score'].transform('median')\n",
    "\n",
    "# Fill NaN values in 'critic_score' column with the Critic's median score for that genre\n",
    "games['critic_score'] = games['critic_score'].fillna(genre_medians_critic)"
   ]
  },
  {
   "cell_type": "code",
   "execution_count": null,
   "id": "5161114b-7aab-4560-ac11-cfa935a56903",
   "metadata": {},
   "outputs": [],
   "source": [
    "games.info()"
   ]
  },
  {
   "cell_type": "markdown",
   "id": "8b26b37e-87ec-466c-b406-a317ebfac900",
   "metadata": {},
   "source": [
    "#### A few of the columns have only 2 rows with missing values. Could it be that there are 2 rows that have missing values in many rows? If so, those two rows should be dropped from the dataframe."
   ]
  },
  {
   "cell_type": "code",
   "execution_count": null,
   "id": "50da15c2-07ac-4765-ac44-4683fa1c4e3b",
   "metadata": {},
   "outputs": [],
   "source": [
    "# Filter rows where 'critic_score' is NaN\n",
    "nan_critic_score_rows = games[games['critic_score'].isna()]\n",
    "\n",
    "# Display the filtered rows\n",
    "print(\"Rows with NaN values in 'critic_score':\")\n",
    "display(nan_critic_score_rows)"
   ]
  },
  {
   "cell_type": "markdown",
   "id": "bb8eff84-90ee-4cd8-8ccc-fed63dbca5b3",
   "metadata": {},
   "source": [
    "#### Yes, those 2 rows have multiple columns with NaN values. These 2 rows will be dropped from the dataframe."
   ]
  },
  {
   "cell_type": "code",
   "execution_count": null,
   "id": "f147c9de-fd72-4353-ae53-134d2ce661e1",
   "metadata": {},
   "outputs": [],
   "source": [
    "# Drop the 2 rows where 'critic_score' is NaN\n",
    "games = games.dropna(subset=['critic_score'])\n",
    "\n",
    "# Verify the changes by displaying the modified DataFrame\n",
    "print(\"\\nDataFrame after dropping rows with NaN values in 'critic_score':\")\n",
    "display(games.head(5))"
   ]
  },
  {
   "cell_type": "code",
   "execution_count": null,
   "id": "3dd9f164-426c-41cf-be3f-70401edb0ba0",
   "metadata": {},
   "outputs": [],
   "source": [
    "games['critic_score'] = games['critic_score'].astype(int)"
   ]
  },
  {
   "cell_type": "markdown",
   "id": "3f7ca6f2-b6ec-499a-a682-d4cf804881b8",
   "metadata": {},
   "source": [
    "## Clean 'user_score' column"
   ]
  },
  {
   "cell_type": "markdown",
   "id": "ca9439e4-747d-49b1-b2b3-21f362899c82",
   "metadata": {},
   "source": [
    "### Get rid of NaN from 'user_score' column."
   ]
  },
  {
   "cell_type": "code",
   "execution_count": null,
   "id": "022a0e60-fb13-48d8-a40e-451289654e34",
   "metadata": {},
   "outputs": [],
   "source": [
    "games.info()"
   ]
  },
  {
   "cell_type": "code",
   "execution_count": null,
   "id": "d0ff3dd1-f653-4801-93b2-80e46289535c",
   "metadata": {},
   "outputs": [],
   "source": [
    "#### There are 10014 rows with non-null in the 'user_score' column. "
   ]
  },
  {
   "cell_type": "code",
   "execution_count": null,
   "id": "c2b30fd0-e28f-4da0-9895-5475b351eed0",
   "metadata": {},
   "outputs": [],
   "source": [
    "# Counting the number of NaN values in the 'user_score' column\n",
    "nan_count_user_score = games['user_score'].isna().sum()\n",
    "\n",
    "print(f\"\\nNumber of NaN values in 'user_score': {nan_count_user_score}\")"
   ]
  },
  {
   "cell_type": "markdown",
   "id": "7eabaa5e-bd94-4959-962e-9352ade16417",
   "metadata": {},
   "source": [
    "#### There are 16713 rows. There are 10014 non-null values in the 'user_score' column. There are 9123 NaN values in the 'user_score' column.  10014 - 9123 = 891. There are 891 unaccounted non-null values that are not NaN. What are they?"
   ]
  },
  {
   "cell_type": "code",
   "execution_count": null,
   "id": "7dae4aff-5433-4199-93d7-c88f4d1ac8aa",
   "metadata": {},
   "outputs": [],
   "source": [
    "# Identify non-numeric/ non-null values in 'user_score' column.\n",
    "# Convert to numeric and identify non-numeric values. The 'errors='coerce' ensures that any non-numeric entries are converted to NaN.\n",
    "games['user_score_numeric'] = pd.to_numeric(games['user_score'], errors='coerce')\n",
    "invalid_values_user_score = games[games['user_score_numeric'].isna() & games['user_score'].notna()]\n",
    "\n",
    "print(\"\\nNon-numeric non-null values in 'user_score':\")\n",
    "print(invalid_values_user_score[['name', 'user_score']])"
   ]
  },
  {
   "cell_type": "code",
   "execution_count": null,
   "id": "bded56bc-dbba-4424-b8e6-70c4728f0d63",
   "metadata": {},
   "outputs": [],
   "source": [
    "# Inspect unique values and their counts\n",
    "user_score_value_counts = games['user_score'].value_counts(dropna=False)\n",
    "\n",
    "print(\"\\nUnique values and their counts in 'user_score':\")\n",
    "print(user_score_value_counts)"
   ]
  },
  {
   "cell_type": "markdown",
   "id": "b2a2041d-0d4b-42ec-8290-54243fd09df0",
   "metadata": {},
   "source": [
    "#### Since the user_score only goes to 10, I will impute the median score, for each genre. I will leave the decimals."
   ]
  },
  {
   "cell_type": "code",
   "execution_count": null,
   "id": "d41eebe7-6a0b-4de5-adaf-177eb3e643fd",
   "metadata": {},
   "outputs": [],
   "source": [
    "games['user_score'] = games['user_score'].replace('tbd', np.nan)"
   ]
  },
  {
   "cell_type": "markdown",
   "id": "5b4c9b4b-82bc-4376-b053-8a9e9eaa5d2c",
   "metadata": {},
   "source": [
    "### Change 'user_score' datatype to float."
   ]
  },
  {
   "cell_type": "code",
   "execution_count": null,
   "id": "b623838f-6c54-4d44-9d3a-aedd0fd6cae4",
   "metadata": {},
   "outputs": [],
   "source": [
    "# Change 'user_score' from float to int type.\n",
    "games['user_score'] = games['user_score'].astype(float)"
   ]
  },
  {
   "cell_type": "markdown",
   "id": "5c21554f-75ad-419d-84ee-5cf44fde5042",
   "metadata": {},
   "source": [
    "### Impute data for 'user_score'."
   ]
  },
  {
   "cell_type": "code",
   "execution_count": null,
   "id": "893354a4-14ff-4107-849a-be477b200dca",
   "metadata": {},
   "outputs": [],
   "source": [
    "# Group by 'genre' and calculate the median user_score for each group\n",
    "genre_medians_user = games.groupby('genre')['user_score'].transform('median')\n",
    "\n",
    "# Fill NaN values in 'user_score' column with the User's median score for that genre\n",
    "games['user_score'] = games['user_score'].fillna(genre_medians_user)"
   ]
  },
  {
   "cell_type": "code",
   "execution_count": null,
   "id": "d6ace417-b913-4938-ae86-e4be3480c2d4",
   "metadata": {},
   "outputs": [],
   "source": [
    "games.info()"
   ]
  },
  {
   "cell_type": "markdown",
   "id": "e7306513-d5e8-4494-9eeb-781e68a91966",
   "metadata": {},
   "source": [
    "## Clean 'rating' column."
   ]
  },
  {
   "cell_type": "markdown",
   "id": "eaf2029d-e25a-4e80-9b09-16164f8a6a49",
   "metadata": {},
   "source": [
    "### Get rid of NaN values in the 'rating' column by imputing data."
   ]
  },
  {
   "cell_type": "code",
   "execution_count": null,
   "id": "862b93aa-b837-419e-a571-a384159a700e",
   "metadata": {},
   "outputs": [],
   "source": [
    "games.genre.value_counts()"
   ]
  },
  {
   "cell_type": "code",
   "execution_count": null,
   "id": "a0a5cac7-458a-44a5-9518-e0ab3b9b94cb",
   "metadata": {},
   "outputs": [],
   "source": [
    "games.rating.value_counts()"
   ]
  },
  {
   "cell_type": "markdown",
   "id": "5f4f7e60-a2f2-467a-bec3-4eb5fc313fe3",
   "metadata": {},
   "source": [
    "#### Find games that contain certain words in their title, that suggest that the game is not an all-ages game."
   ]
  },
  {
   "cell_type": "code",
   "execution_count": null,
   "id": "26887f24-7ccf-4370-85d4-1626c9fad255",
   "metadata": {},
   "outputs": [],
   "source": [
    "# List of keywords implying a mature rating\n",
    "keywords = ['evil', 'war', 'kill', 'devil', 'gun', 'battle', 'fatal', 'hell', 'psychedelic']\n",
    "\n",
    "# Create a mask to find rows where 'name' contains any of the keywords\n",
    "mask_rating = games['name'].str.contains('|'.join(keywords), case=False, na=False)\n",
    "\n",
    "# Display rows where the mask is True (i.e., 'name' contains keywords)\n",
    "mature_games = games[mask_rating]\n",
    "\n",
    "print(\"Games implying mature rating based on keywords in 'name':\")\n",
    "display(mature_games.tail(40))"
   ]
  },
  {
   "cell_type": "code",
   "execution_count": null,
   "id": "7f8d678d-22ba-410d-898f-ecf252fa0fd0",
   "metadata": {},
   "outputs": [],
   "source": [
    "#From this list, find only the games with a NaN 'rating' value.\n",
    "mask_nan_rating = mask_rating & games['rating'].isna()\n",
    "\n",
    "#Change the 'rating' to 'M' (mature), or 'T' (teen)\n",
    "#mask_nan_rating is boolean.\n",
    "games.loc[mask_nan_rating, 'rating'] = [random.choice(['M', 'T']) for _ in range(mask_nan_rating.sum())]"
   ]
  },
  {
   "cell_type": "markdown",
   "id": "7558e39e-0c9d-4fee-8f91-212638504f07",
   "metadata": {},
   "source": [
    "#### Check that the 'rating', of words on the keywords list,  were randomly changed to 'M' or 'T'."
   ]
  },
  {
   "cell_type": "code",
   "execution_count": null,
   "id": "61b36d14-d180-4daa-b437-54ffdf0cdcc1",
   "metadata": {},
   "outputs": [],
   "source": [
    "mask_check = games['name'].str.contains('|'.join(keywords), case=False, na=False)\n",
    "\n",
    "filtered_names = games.loc[mask_check, ['name', 'rating']]\n",
    "print(filtered_names)"
   ]
  },
  {
   "cell_type": "code",
   "execution_count": null,
   "id": "5df78b8e-37a9-43d6-8c09-edb40678e0ac",
   "metadata": {},
   "outputs": [],
   "source": [
    "# Filter rows where genre is 'Platform'\n",
    "platform_games = games[games['genre'] == 'Platform']\n",
    "\n",
    "# Print the 'title', 'rating', and 'genre' columns of the filtered rows\n",
    "print(platform_games[['name', 'rating', 'genre']])"
   ]
  },
  {
   "cell_type": "markdown",
   "id": "6e3a5c4d-5686-415f-be53-3db080d458b6",
   "metadata": {},
   "source": [
    "#### If one \"Super Mario\" game has an \"E\" rating, then I should be able to fill in Nan values, of other \"Super Mario\" games with an \"E\" rating."
   ]
  },
  {
   "cell_type": "code",
   "execution_count": null,
   "id": "e51155b1-d2ae-404f-bda3-22f3d28eda3a",
   "metadata": {},
   "outputs": [],
   "source": [
    "# Identify rows where 'name' contains 'Super Mario' and 'rating' is NaN, then fill with 'E'\n",
    "games.loc[games['name'].str.contains('Super Mario', case=False) & games['rating'].isna(), 'rating'] = 'E'"
   ]
  },
  {
   "cell_type": "code",
   "execution_count": null,
   "id": "d714b2cc-f2a4-427f-b467-f06107d54b72",
   "metadata": {},
   "outputs": [],
   "source": [
    "#After cleaning ...\n",
    "# Filter rows where genre is 'Platform'\n",
    "platform_games = games[games['genre'] == 'Platform']\n",
    "\n",
    "# Print the 'title', 'rating', and 'genre' columns of the filtered rows\n",
    "print(platform_games[['name', 'rating', 'genre']].head(5))"
   ]
  },
  {
   "cell_type": "markdown",
   "id": "ec483464-ce9e-40cd-b2a3-9c7a605c523b",
   "metadata": {},
   "source": [
    "### If that worked for \"Super Mario\", then it will work to get rid of NaN values for \"Pokemon\", too."
   ]
  },
  {
   "cell_type": "code",
   "execution_count": null,
   "id": "9ed5cafd-0712-40cd-b0be-903e43d5d7f7",
   "metadata": {},
   "outputs": [],
   "source": [
    "# Replace 'Pokémon' with 'Pokemon' in the 'name' column\n",
    "games['name'] = games['name'].str.replace('Pokémon', 'Pokemon')"
   ]
  },
  {
   "cell_type": "code",
   "execution_count": null,
   "id": "080139ca-c728-437f-87b3-54be8d151ca5",
   "metadata": {},
   "outputs": [],
   "source": [
    "# Filter rows where 'name' contains 'Pokemon'\n",
    "name_contains_pokemon = games[games['name'].str.contains('Pokemon', case=False, na=False)]\n",
    "\n",
    "# Display the filtered DataFrame with specified columns only\n",
    "print(name_contains_pokemon[['name', 'rating', 'genre']])"
   ]
  },
  {
   "cell_type": "code",
   "execution_count": null,
   "id": "9879b582-fa42-413b-9895-bab23a01eec1",
   "metadata": {},
   "outputs": [],
   "source": [
    "# After cleaning\n",
    "# Filter rows where 'name' contains 'Pokemon'\n",
    "name_contains_pokemon = games[games['name'].str.contains('Pokemon', case=False, na=False)]\n",
    "\n",
    "# Display the filtered DataFrame with specified columns only\n",
    "print(name_contains_pokemon[['name', 'rating', 'genre']])"
   ]
  },
  {
   "cell_type": "code",
   "execution_count": null,
   "id": "e18695a4-fa85-498d-bd3a-4ba3fc3bd267",
   "metadata": {},
   "outputs": [],
   "source": [
    "# Identify rows where 'name' contains 'Pokemon' and 'rating' is NaN, then fill with 'E'\n",
    "games.loc[games['name'].str.contains('Pokemon', case=False) & games['rating'].isna(), 'rating'] = 'E'"
   ]
  },
  {
   "cell_type": "code",
   "execution_count": null,
   "id": "61dba695-6119-400f-bebd-cc9d22c05f9c",
   "metadata": {},
   "outputs": [],
   "source": [
    "# After cleaning\n",
    "# Filter rows where 'name' contains 'Pokemon'\n",
    "name_contains_pokemon = games[games['name'].str.contains('Pokemon', case=False, na=False)]\n",
    "\n",
    "# Display the filtered DataFrame with specified columns only\n",
    "print(name_contains_pokemon[['name', 'rating', 'genre']])"
   ]
  },
  {
   "cell_type": "markdown",
   "id": "a5a1ec16-f23f-46ba-8f55-2622e9af3f48",
   "metadata": {},
   "source": [
    "### Do the same method with game names that contain \"Zelda\"."
   ]
  },
  {
   "cell_type": "code",
   "execution_count": null,
   "id": "0ed14069-cd7e-43b5-a7ba-1948e8bc13e0",
   "metadata": {},
   "outputs": [],
   "source": [
    "# Filter rows where 'name' contains 'Zelda'\n",
    "name_contains_zelda = games[games['name'].str.contains('Zelda', case=False, na=False)]\n",
    "\n",
    "# Display the filtered DataFrame\n",
    "print(name_contains_zelda[['name', 'rating', 'genre']].tail(30))"
   ]
  },
  {
   "cell_type": "code",
   "execution_count": null,
   "id": "19affea5-24d8-487f-be65-6dcfbaf9163e",
   "metadata": {},
   "outputs": [],
   "source": [
    "# Identify rows where 'name' contains 'Zelda' and 'rating' is NaN, then fill with 'E'\n",
    "games.loc[games['name'].str.contains('Zelda', case=False) & games['rating'].isna(), 'rating'] = 'E'"
   ]
  },
  {
   "cell_type": "code",
   "execution_count": null,
   "id": "bfae7d77-46de-48c4-9146-723ccbe11a7e",
   "metadata": {},
   "outputs": [],
   "source": [
    "#After cleaning ...\n",
    "# Filter rows where 'name' contains 'Zelda'\n",
    "name_contains_zelda = games[games['name'].str.contains('Zelda', case=False, na=False)]\n",
    "\n",
    "# Display the filtered DataFrame\n",
    "print(name_contains_zelda[['name', 'rating', 'genre']].tail(30))"
   ]
  },
  {
   "cell_type": "markdown",
   "id": "7d9b2ff4-46eb-42b8-a0f8-9ffeb8561f90",
   "metadata": {},
   "source": [
    "### Impute data on 'rating' column using bfill and ffil."
   ]
  },
  {
   "cell_type": "code",
   "execution_count": null,
   "id": "a4f80639-e802-4f8f-a32e-6b9ea86361aa",
   "metadata": {},
   "outputs": [],
   "source": [
    "# Group by 'name' and impute NaNs in 'rating' column with available ratings for the same name\n",
    "games['rating'] = games.groupby('name')['rating'].transform(lambda x: x.ffill().bfill())\n",
    "\n",
    "# Verify the updates\n",
    "display(games.sample(20))"
   ]
  },
  {
   "cell_type": "code",
   "execution_count": null,
   "id": "f793b5b4-f832-41ab-b3d9-d7a338113632",
   "metadata": {},
   "outputs": [],
   "source": [
    "games.name.value_counts()"
   ]
  },
  {
   "cell_type": "code",
   "execution_count": null,
   "id": "fdff2d7c-bce1-44ea-9ece-d7abcfb7b33d",
   "metadata": {},
   "outputs": [],
   "source": [
    "# Filter rows where genre is 'Fighting'\n",
    "platform_games = games[games['genre'] == 'Fighting']\n",
    "\n",
    "# Print the 'title', 'rating', and 'genre' columns of the filtered rows\n",
    "print(platform_games[['name', 'rating', 'genre']])"
   ]
  },
  {
   "cell_type": "code",
   "execution_count": null,
   "id": "307f99fa-144f-46d4-b6d3-3388d9d21ea1",
   "metadata": {},
   "outputs": [],
   "source": [
    "#Before cleaning ...\n",
    "# Filter rows where 'name' contains 'Super Smash Bros.'\n",
    "name_contains_super_smash_bros = games[games['name'].str.contains('Super Smash Bros.', case=False, na=False)]\n",
    "\n",
    "# Display the filtered DataFrame\n",
    "print(name_contains_super_smash_bros[['name', 'rating', 'genre']].tail(30))"
   ]
  },
  {
   "cell_type": "code",
   "execution_count": null,
   "id": "4ba31378-d413-4501-9679-67c7ce50c618",
   "metadata": {},
   "outputs": [],
   "source": [
    "# Identify rows where 'name' contains 'Super Smash Bros.' and 'rating' is NaN, then fill with 'E'\n",
    "games.loc[games['name'].str.contains('Super Smash Bros.', case=False) & games['rating'].isna(), 'rating'] = 'T'"
   ]
  },
  {
   "cell_type": "code",
   "execution_count": null,
   "id": "c827f187-3572-4880-8b53-855503b22ef3",
   "metadata": {},
   "outputs": [],
   "source": [
    "#After cleaning ...\n",
    "# Filter rows where 'name' contains 'Super Smash Bros.'\n",
    "name_contains_super_smash_bros = games[games['name'].str.contains('Super Smash Bros.', case=False, na=False)]\n",
    "\n",
    "# Display the filtered DataFrame\n",
    "print(name_contains_super_smash_bros[['name', 'rating', 'genre']].tail(30))"
   ]
  },
  {
   "cell_type": "code",
   "execution_count": null,
   "id": "3b930730-3dc9-4d76-90ba-f55e7a5bf083",
   "metadata": {},
   "outputs": [],
   "source": [
    "# Filter rows where genre is 'Puzzle'\n",
    "platform_games_strategy = games[games['genre'] == 'Puzzle']\n",
    "\n",
    "# Print the 'title', 'rating', and 'genre' columns of the filtered rows\n",
    "print(platform_games_strategy[['name', 'rating', 'genre']].head(25))"
   ]
  },
  {
   "cell_type": "code",
   "execution_count": null,
   "id": "7a7a5331-1273-4e27-a82a-8f15732f3993",
   "metadata": {},
   "outputs": [],
   "source": [
    "tetris_games = games[games['name'].str.contains('Tetris', case=False, na=False)]\n",
    "display(tetris_games)"
   ]
  },
  {
   "cell_type": "code",
   "execution_count": null,
   "id": "683c2aee-b188-4b5b-ae46-e673645a22bf",
   "metadata": {},
   "outputs": [],
   "source": [
    "#Change all 'name' that contain 'Tetris' to a 'rating' of 'E'.\n",
    "games.loc[games['name'].str.contains('Tetris', case=False, na=False), 'rating'] = 'E'"
   ]
  },
  {
   "cell_type": "code",
   "execution_count": null,
   "id": "2accb52e-4412-4541-9d07-76fc167a1974",
   "metadata": {},
   "outputs": [],
   "source": [
    "games.info()"
   ]
  },
  {
   "cell_type": "code",
   "execution_count": null,
   "id": "b2f6d906-1862-426b-8e95-2f7df2cc3e1e",
   "metadata": {},
   "outputs": [],
   "source": [
    "#Replace the remainder of NaN values with \"None\".\n",
    "games['rating'] = games['rating'].fillna('None')"
   ]
  },
  {
   "cell_type": "code",
   "execution_count": null,
   "id": "9e979003-85d3-434f-815c-00870b2f967e",
   "metadata": {},
   "outputs": [],
   "source": [
    "games['rating'] = games['rating'].astype('category')"
   ]
  },
  {
   "cell_type": "code",
   "execution_count": null,
   "id": "39c9095c-361b-41dc-9ea4-bdfcbe3fd2fc",
   "metadata": {},
   "outputs": [],
   "source": [
    "games.info()"
   ]
  },
  {
   "cell_type": "markdown",
   "id": "7b79f121-a1cf-4e65-9b46-c842664d5d55",
   "metadata": {},
   "source": [
    "### Remove temporary columns that were used for cleaning."
   ]
  },
  {
   "cell_type": "code",
   "execution_count": null,
   "id": "1bb227a3-0bf1-4b88-ae30-79db6814d170",
   "metadata": {},
   "outputs": [],
   "source": [
    "games.drop(columns=['user_score_numeric'], inplace=True)"
   ]
  },
  {
   "cell_type": "markdown",
   "id": "2f0142f2-78a6-49b3-91bb-3d1d32e45595",
   "metadata": {},
   "source": [
    "<div style=\"background-color: rgb(255, 176, 155); padding: 10px; border-radius: 5px;\">\n",
    "    <h2>Data is clean now.</h2>\n",
    "</div>"
   ]
  },
  {
   "cell_type": "markdown",
   "id": "a30c3072-063d-4fd5-96a7-61b0fde08725",
   "metadata": {},
   "source": [
    "<br>\n",
    "<h2><b>Why were there missing values?</b></h2>\n",
    "<br>\n",
    "\n",
    "<b>'rating'</b>\n",
    "<br>\n",
    "\n",
    "- The ESRB rating system was not created until 1994. This dataset goes back to 1980. So, for the first 15 years of the dataset, I wouldn't expect to find a value in the 'rating' column. Since the dataset goes until 2016, this explains why almost half of the values for the 'rating' column were not there.\n",
    "\n",
    "- In 2005, ESRB introduced a new rating, E10+, so I wouldn't expect to find any of those ratings before the year 2005.\n",
    "\n",
    "- Another explanation for missing values in the 'rating' column is that whoever created the dataset just failed to fill in that field.\n",
    "\n",
    "<br>\n",
    "<b>'critic_score'</b>\n",
    "<br>\n",
    "<br>\n",
    "- There are so many games produced each year. The less popular games probably did not get scored by critics.\n",
    "<br>\n",
    "<br>\n",
    "\n",
    "<b>'user_score'</b>\n",
    "<br>\n",
    "<br>\n",
    "- Again, the less popular games probably did not get scored by users.\n",
    "\n",
    "- Also, how did the users score the game before the invention of the internet? Did they snail mail their vote in? It would be unlikely that many people would take the time to do that. Even after the invention of the internet, it took many years before every household actually had the internet. This could also explain missing 'user_score'."
   ]
  },
  {
   "cell_type": "markdown",
   "id": "a62f1c54-52cd-46f8-8574-57e51476b339",
   "metadata": {},
   "source": [
    "<h2><b>Explanation of Cleaning:</h2></b>\n",
    "<br>\n",
    "<br>\n",
    "<b>'year'</b>\n",
    "\n",
    "- I used groupby, to group the name of same-named games together. Then I used lambda to to get the year mode(the most frequent value), of each name of game, then apply it to each same-named game that had NaN. \n",
    "\n",
    "- If the mode calculation returned an empty result, it was assigned np.nan instead. \n",
    "\n",
    "- I used fillna to fill the remainder of the NaN values to '0'.\n",
    "\n",
    "- I got rid of the decimal in the year column, and changed the datatype to int64, as years do not have decimals. I converted 'year' to Int64, instead of int, as Int64 handles NaN values gracefully without raising an error.\n",
    "\n",
    "<br>\n",
    "<br>\n",
    "<b>'critic_score'</b>\n",
    "\n",
    "- I grouped by genre, and filled the NaN values, in the 'critic_score' column with the median values of each genre's 'critic_score' values.\n",
    "\n",
    "- After doing this, there were only 2 rows, from the 'critic_score' column that had missing values. I printed out those 2 rows, and almost all the values were missing for the other rows, too, so I dropped those 2 rows from the dataframe.\n",
    "\n",
    "- I changed the datatype to 'int', as decimals seemed excessive, considering that the scale goes to 100.\n",
    "\n",
    "<br>\n",
    "<br>\n",
    "<b>'user_score'</b>\n",
    "\n",
    "- I changed to datatype float, leaving the decimals in, because the 'user_score' column only goes to 10, so those decimals give an extra added degree of rating.\n",
    "\n",
    "- I identified non-numeric/ non-null values in 'user_score' column, using pd.to_numeric, and used 'errors='coerce' to ensure that any non-numeric entries were converted to NaN.\n",
    "\n",
    "- Then I used 'replace' to change 'tbd' to np.nan\n",
    "\n",
    "- I used groupby to group by 'genre' and 'user_score' to find the median 'user_score' for each genre.\n",
    "\n",
    "- I took those values, and used fillna to fill in the missing 'user_score' values with the median 'user_score' of that game's genre.\n",
    "\n",
    "<br>\n",
    "<br>\n",
    "<b>'rating'</b>\n",
    "\n",
    "- I created a keywords list that contained words that might imply that a game is not an all ages game.\n",
    "\n",
    "- I then created a mask, to find rows where 'name' contains any of the words on the keywords list.\n",
    "\n",
    "- I took that list, and found all games from that list that had a NaN value in the 'rating' column.\n",
    "\n",
    "- I used random to replace 'NaN, in all of those games' 'rating' column, with either 'M' ( for \"Mature\" ), or 'T' ( for \"Teen ).\n",
    "\n",
    "- I queried the dataframe, by different genres, to see if there were any games that I recognized, and I studied those games to see if any of the other games, with similiar names, had a value for 'rating'. If they did, I used str.contains and .isna to find games of that name, that had NaN for their 'rating' value, and I changed the 'rating' to the same rating as a similar named game. I did this for \"Zelda\", \"Pokemon\", \"Tetris\", \"Super Smash Bros.\", and \"Super Mario\" games.\n",
    "\n",
    "- I then grouped by 'name' and 'rating, and used ffill and bfill to ffill, to grab from previous game, and grab from the next game on the list, from within the group.\n",
    "\n",
    "- I went back up, a few cells, and used replace, to change the name of 'Pokémon' to  'Pokemon', because the 'Pokémon'with the apostropher above the 'e' did not show up in searches when I searched for \"Pokemon\", and so the change in 'rating' did not take effect. So, now all \"Pokemon\" show up when I search for them.\n",
    "\n",
    "- The remainder of missing values were filled with 'None', using fillna.\n",
    "\n",
    "- I changed the datatype to 'category', as this may be helpful when making graphs.\n",
    "\n",
    "<br>\n",
    "<br>\n",
    "<b>Removed temp columns</b>\n",
    "\n",
    "- I used drop to remove the temporary column called 'user_score_numeric'\n"
   ]
  },
  {
   "cell_type": "markdown",
   "id": "19187ac5-7dac-4519-a4d3-f9430b882dce",
   "metadata": {},
   "source": [
    "<div style=\"background-color: rgb(255, 176, 155); padding: 10px; border-radius: 5px;\">\n",
    "    <h2>Analyze the data.</h2>\n",
    "</div>"
   ]
  },
  {
   "cell_type": "markdown",
   "id": "8c2c7143-4037-4828-9a66-74a7c11b1976",
   "metadata": {},
   "source": [
    "## Calculate the total sales ( the sum of each region ), for each game."
   ]
  },
  {
   "cell_type": "code",
   "execution_count": null,
   "id": "67875f4b-cc9b-4d02-b6f2-d2eda91eb0a2",
   "metadata": {},
   "outputs": [],
   "source": [
    "#Initialize total_sales\n",
    "games['total_sales'] = 0.0"
   ]
  },
  {
   "cell_type": "code",
   "execution_count": null,
   "id": "4bb429f1-b0b6-47bc-a925-9bae4c1ca6dd",
   "metadata": {},
   "outputs": [],
   "source": [
    "# Calculate the total sales for each game by summing 'sales_na', 'sales_eu', and 'sales_jp'\n",
    "games['total_sales'] = games['sales_na'] + games['sales_eu'] + games['sales_jp']\n",
    "\n",
    "# Display the DataFrame to verify the new column\n",
    "print(\"DataFrame with total sales calculated for each game:\")\n",
    "display(games)"
   ]
  },
  {
   "cell_type": "code",
   "execution_count": null,
   "id": "ad7aa8b1-7818-4caf-9e1f-e29af22b9f31",
   "metadata": {},
   "outputs": [],
   "source": [
    "# Group by 'year' and count the number of games released each year\n",
    "release_by_year = games.groupby('year').size().reset_index(name='num_games')"
   ]
  },
  {
   "cell_type": "code",
   "execution_count": null,
   "id": "9b588e9f-9332-4359-bb1a-8401c8618c1c",
   "metadata": {},
   "outputs": [],
   "source": [
    "# Sort by 'year' \n",
    "release_by_year = release_by_year.sort_values(by='year')"
   ]
  },
  {
   "cell_type": "code",
   "execution_count": null,
   "id": "0da42f93-6f48-4d41-aea7-23e0e47ee542",
   "metadata": {},
   "outputs": [],
   "source": [
    "display(release_by_year)"
   ]
  },
  {
   "cell_type": "markdown",
   "id": "7d164f5d-4ad9-4802-8c55-c5e7de7b8a08",
   "metadata": {},
   "source": [
    "#### The most games, per year, were released between the years 2006-2011."
   ]
  },
  {
   "cell_type": "code",
   "execution_count": null,
   "id": "dd1af88c-0678-4c28-bfed-68da019a3696",
   "metadata": {},
   "outputs": [],
   "source": [
    "# Sort by 'year', from highest to lowest\n",
    "release_by_year = release_by_year.sort_values(by='num_games', ascending=False)\n",
    "display(release_by_year)"
   ]
  },
  {
   "cell_type": "markdown",
   "id": "d42835ce-3fbe-4082-a230-0175b0c64809",
   "metadata": {},
   "source": [
    "#### After 1993, there starts to be a lot more games released per year."
   ]
  },
  {
   "cell_type": "code",
   "execution_count": null,
   "id": "3f40c3ac-7a12-4990-9543-11288aba3f36",
   "metadata": {},
   "outputs": [],
   "source": []
  }
 ],
 "metadata": {
  "kernelspec": {
   "display_name": "Python 3.8.8 (myenv)",
   "language": "python",
   "name": "myenv"
  },
  "language_info": {
   "codemirror_mode": {
    "name": "ipython",
    "version": 3
   },
   "file_extension": ".py",
   "mimetype": "text/x-python",
   "name": "python",
   "nbconvert_exporter": "python",
   "pygments_lexer": "ipython3",
   "version": "3.11.7"
  }
 },
 "nbformat": 4,
 "nbformat_minor": 5
}
